{
 "cells": [
  {
   "cell_type": "markdown",
   "metadata": {},
   "source": [
    "# League of Legends : Role identification by Machine Learning"
   ]
  },
  {
   "cell_type": "markdown",
   "metadata": {},
   "source": [
    "## Introduction"
   ]
  },
  {
   "cell_type": "markdown",
   "metadata": {},
   "source": [
    "Accurate role identification in League of Legends has been a concern for most analysts working on match data analysis. The Riot Games API offers a role indentification, but has been proven quite unreliable."
   ]
  },
  {
   "cell_type": "markdown",
   "metadata": {},
   "source": [
    "We will explore some of these role attribution given by API data and gives a role identification based on two fields : \n",
    " * Role which can be \"SOLO\", \"DUO\", \"DUO_CARRY\", \"DUO_SUPPORT\"\n",
    " * Lane which can be \"TOP\", \"MIDDLE\", \"BOTTOM\", \"JUNGLE\", \"NONE\"\n",
    "\n",
    "The metagame has defined 5 major roles in a League of Legends game : \n",
    " * The Toplaner is in charge of the toplane, is often a tank or a fighter, serves as frontline for the team or as a splitpusher, and usually tagged as \"SOLO\" and \"TOP\"\n",
    " * The Midlaner, in charge of the midlane, is often a mage or an assassin, is the source of magic damages of the team and/or the nuker that will kill the strong but squishy enemies, tagged as \"SOLO\" and \"MIDDLE\"\n",
    " * The Jungler, in charge of the Jungle but also usually help other laner during the game, usually a fighter with good engage capacity and sustain, tagged as \"NONE\" and \"JUNGLE\"\n",
    " * The AD Carry, or Marksman, shares the botlane with the Support, is weak early in the game and need a lot of farm to be usefull for the team, tagged as \"DUO_CARRY\" and \"BOTTOM\"\n",
    " * The Support shares the botlane with the AD Carry, a tank or a mage with high utility capacity, can also be a burster mage, has to protect its AD Carry and offer utility (vision, controls) to its team, tagged as \"DUO_SUPPORT\" and \"BOTTOM\""
   ]
  },
  {
   "cell_type": "markdown",
   "metadata": {},
   "source": [
    "Exploring a sample games to get combinations of roles."
   ]
  },
  {
   "cell_type": "code",
   "execution_count": 1,
   "metadata": {},
   "outputs": [
    {
     "data": {
      "text/plain": [
       "{'[\"BOTTOM_DUO_CARRY\", \"BOTTOM_DUO_SUPPORT\", \"JUNGLE_NONE\", \"MIDDLE_SOLO\", \"TOP_SOLO\"]': 1284,\n",
       " '[\"BOTTOM_SOLO\", \"JUNGLE_NONE\", \"MIDDLE_DUO_CARRY\", \"MIDDLE_DUO_SUPPORT\", \"TOP_SOLO\"]': 54,\n",
       " '[\"JUNGLE_NONE\", \"MIDDLE_DUO\", \"MIDDLE_DUO\", \"MIDDLE_DUO_SUPPORT\", \"TOP_SOLO\"]': 40,\n",
       " '[\"NONE_DUO_SUPPORT\", \"NONE_DUO_SUPPORT\", \"NONE_DUO_SUPPORT\", \"NONE_DUO_SUPPORT\", \"NONE_DUO_SUPPORT\"]': 116,\n",
       " '[\"NONE_DUO\", \"NONE_DUO_SUPPORT\", \"NONE_DUO_SUPPORT\", \"NONE_DUO_SUPPORT\", \"NONE_DUO_SUPPORT\"]': 96,\n",
       " '[\"BOTTOM_DUO_CARRY\", \"BOTTOM_DUO_SUPPORT\", \"JUNGLE_NONE\", \"JUNGLE_NONE\", \"MIDDLE_SOLO\"]': 58,\n",
       " '[\"BOTTOM_DUO\", \"BOTTOM_DUO\", \"BOTTOM_DUO_SUPPORT\", \"JUNGLE_NONE\", \"JUNGLE_NONE\"]': 1,\n",
       " '[\"BOTTOM_SOLO\", \"JUNGLE_NONE\", \"MIDDLE_DUO\", \"MIDDLE_DUO_SUPPORT\", \"MIDDLE_DUO_SUPPORT\"]': 4,\n",
       " '[\"BOTTOM_DUO_CARRY\", \"BOTTOM_DUO_SUPPORT\", \"JUNGLE_NONE\", \"MIDDLE_DUO\", \"MIDDLE_DUO\"]': 70,\n",
       " '[\"JUNGLE_NONE\", \"MIDDLE_DUO_SUPPORT\", \"MIDDLE_DUO_SUPPORT\", \"MIDDLE_DUO_SUPPORT\", \"MIDDLE_DUO_SUPPORT\"]': 3,\n",
       " '[\"BOTTOM_DUO_CARRY\", \"BOTTOM_DUO_SUPPORT\", \"JUNGLE_NONE\", \"TOP_DUO\", \"TOP_DUO\"]': 98,\n",
       " '[\"JUNGLE_NONE\", \"MIDDLE_DUO\", \"MIDDLE_DUO\", \"TOP_DUO_CARRY\", \"TOP_DUO_SUPPORT\"]': 2,\n",
       " '[\"BOTTOM_DUO_CARRY\", \"BOTTOM_DUO_SUPPORT\", \"MIDDLE_SOLO\", \"TOP_DUO_CARRY\", \"TOP_DUO_SUPPORT\"]': 23,\n",
       " '[\"BOTTOM_DUO\", \"BOTTOM_DUO\", \"JUNGLE_NONE\", \"MIDDLE_SOLO\", \"TOP_SOLO\"]': 2,\n",
       " '[\"BOTTOM_SOLO\", \"JUNGLE_NONE\", \"JUNGLE_NONE\", \"MIDDLE_SOLO\", \"TOP_SOLO\"]': 17,\n",
       " '[\"BOTTOM_SOLO\", \"JUNGLE_NONE\", \"MIDDLE_SOLO\", \"TOP_DUO_CARRY\", \"TOP_DUO_SUPPORT\"]': 9,\n",
       " '[\"BOTTOM_SOLO\", \"JUNGLE_NONE\", \"MIDDLE_DUO\", \"MIDDLE_DUO\", \"MIDDLE_DUO_SUPPORT\"]': 5,\n",
       " '[\"BOTTOM_SOLO\", \"JUNGLE_NONE\", \"MIDDLE_SOLO\", \"TOP_DUO\", \"TOP_DUO\"]': 20,\n",
       " '[\"BOTTOM_DUO_CARRY\", \"BOTTOM_DUO_SUPPORT\", \"JUNGLE_NONE\", \"JUNGLE_NONE\", \"TOP_SOLO\"]': 14,\n",
       " '[\"JUNGLE_NONE\", \"JUNGLE_NONE\", \"JUNGLE_NONE\", \"JUNGLE_NONE\", \"MIDDLE_SOLO\"]': 1,\n",
       " '[\"JUNGLE_NONE\", \"MIDDLE_DUO\", \"MIDDLE_DUO_SUPPORT\", \"MIDDLE_DUO_SUPPORT\", \"TOP_SOLO\"]': 3,\n",
       " '[\"JUNGLE_NONE\", \"MIDDLE_DUO_CARRY\", \"MIDDLE_DUO_SUPPORT\", \"TOP_DUO\", \"TOP_DUO\"]': 6,\n",
       " '[\"BOTTOM_DUO_CARRY\", \"BOTTOM_DUO_SUPPORT\", \"JUNGLE_NONE\", \"MIDDLE_DUO_CARRY\", \"MIDDLE_DUO_SUPPORT\"]': 4,\n",
       " '[\"NONE_DUO\", \"NONE_DUO\", \"NONE_DUO_SUPPORT\", \"NONE_DUO_SUPPORT\", \"NONE_DUO_SUPPORT\"]': 4,\n",
       " '[\"BOTTOM_DUO_CARRY\", \"BOTTOM_DUO_SUPPORT\", \"MIDDLE_DUO_CARRY\", \"MIDDLE_DUO_SUPPORT\", \"TOP_SOLO\"]': 2,\n",
       " '[\"BOTTOM_DUO_CARRY\", \"BOTTOM_DUO_SUPPORT\", \"BOTTOM_DUO_SUPPORT\", \"MIDDLE_SOLO\", \"TOP_SOLO\"]': 3,\n",
       " '[\"BOTTOM_SOLO\", \"JUNGLE_NONE\", \"MIDDLE_DUO\", \"MIDDLE_DUO\", \"TOP_SOLO\"]': 31,\n",
       " '[\"BOTTOM_DUO\", \"BOTTOM_DUO\", \"BOTTOM_DUO_SUPPORT\", \"JUNGLE_NONE\", \"TOP_SOLO\"]': 7,\n",
       " '[\"BOTTOM_SOLO\", \"JUNGLE_NONE\", \"JUNGLE_NONE\", \"TOP_DUO\", \"TOP_DUO\"]': 2,\n",
       " '[\"JUNGLE_NONE\", \"MIDDLE_DUO_CARRY\", \"MIDDLE_DUO_SUPPORT\", \"MIDDLE_DUO_SUPPORT\", \"TOP_SOLO\"]': 1,\n",
       " '[\"BOTTOM_DUO\", \"BOTTOM_DUO\", \"BOTTOM_DUO_SUPPORT\", \"JUNGLE_NONE\", \"MIDDLE_SOLO\"]': 2,\n",
       " '[\"BOTTOM_DUO_CARRY\", \"BOTTOM_DUO_SUPPORT\", \"JUNGLE_NONE\", \"JUNGLE_NONE\", \"JUNGLE_NONE\"]': 1,\n",
       " '[\"JUNGLE_NONE\", \"MIDDLE_SOLO\", \"TOP_DUO\", \"TOP_DUO\", \"TOP_DUO_SUPPORT\"]': 2,\n",
       " '[\"BOTTOM_SOLO\", \"JUNGLE_NONE\", \"JUNGLE_NONE\", \"MIDDLE_DUO\", \"MIDDLE_DUO\"]': 3,\n",
       " '[\"BOTTOM_SOLO\", \"JUNGLE_NONE\", \"JUNGLE_NONE\", \"MIDDLE_DUO_CARRY\", \"MIDDLE_DUO_SUPPORT\"]': 2,\n",
       " '[\"BOTTOM_DUO_CARRY\", \"BOTTOM_DUO_SUPPORT\", \"MIDDLE_SOLO\", \"TOP_DUO\", \"TOP_DUO\"]': 1,\n",
       " '[\"BOTTOM_SOLO\", \"JUNGLE_NONE\", \"TOP_DUO\", \"TOP_DUO_SUPPORT\", \"TOP_DUO_SUPPORT\"]': 1,\n",
       " '[\"JUNGLE_NONE\", \"TOP_DUO\", \"TOP_DUO_SUPPORT\", \"TOP_DUO_SUPPORT\", \"TOP_DUO_SUPPORT\"]': 1,\n",
       " '[\"BOTTOM_DUO_CARRY\", \"BOTTOM_DUO_SUPPORT\", \"JUNGLE_NONE\", \"TOP_DUO_CARRY\", \"TOP_DUO_SUPPORT\"]': 3,\n",
       " '[\"JUNGLE_NONE\", \"JUNGLE_NONE\", \"MIDDLE_DUO\", \"MIDDLE_DUO\", \"MIDDLE_DUO_SUPPORT\"]': 1,\n",
       " '[\"BOTTOM_DUO\", \"BOTTOM_DUO_SUPPORT\", \"BOTTOM_DUO_SUPPORT\", \"JUNGLE_NONE\", \"TOP_SOLO\"]': 1,\n",
       " '[\"JUNGLE_NONE\", \"MIDDLE_DUO_CARRY\", \"MIDDLE_DUO_SUPPORT\", \"TOP_DUO_CARRY\", \"TOP_DUO_SUPPORT\"]': 1,\n",
       " '[\"BOTTOM_SOLO\", \"JUNGLE_NONE\", \"MIDDLE_DUO_SUPPORT\", \"MIDDLE_DUO_SUPPORT\", \"MIDDLE_DUO_SUPPORT\"]': 1}"
      ]
     },
     "execution_count": 1,
     "metadata": {},
     "output_type": "execute_result"
    }
   ],
   "source": [
    "import pymongo\n",
    "\n",
    "client = pymongo.MongoClient()\n",
    "db = client.game\n",
    "gamesTable = db.gameData_92_1\n",
    "\n",
    "roles = []\n",
    "for g in gamesTable.find({ \"gameDuration\": { \"$gt\": 900 }}).limit(1000):\n",
    "    \n",
    "    teamRoles = {\n",
    "        100:[],\n",
    "        200:[]\n",
    "    }\n",
    "    \n",
    "    for p in g[\"participants\"]:\n",
    "        teamRoles[p['teamId']].append(p['timeline']['lane']+\"_\"+p['timeline']['role'])\n",
    "    \n",
    "    roles.append(sorted(teamRoles[100]))\n",
    "    roles.append(sorted(teamRoles[200]))\n",
    "    \n",
    "\n",
    "    \n",
    "import json\n",
    "roleCount = {json.dumps(x):roles.count(x) for x in roles}\n",
    "roleCount"
   ]
  },
  {
   "cell_type": "markdown",
   "metadata": {},
   "source": [
    "Some examples : for game 3906939349, red team has this composition : [\"NONE_DUO\", \"NONE_DUO_SUPPORT\", \"NONE_DUO_SUPPORT\", \"NONE_DUO_SUPPORT\", \"NONE_DUO_SUPPORT\"]\n",
    "\n",
    "http://timeline.canisback.com/game/EUW1/3906939349\n",
    "\n",
    "https://matchhistory.euw.leagueoflegends.com/fr/#match-details/EUW1/3906939349?tab=overview\n",
    "\n",
    "The game went so bad that the given role identification almost can't decide the role and can't find at all the lane. The blue team also suffer from misclassification, having a composition of \"NONE_DUO_SUPPORT\", \"NONE_DUO_SUPPORT\", \"NONE_DUO_SUPPORT\", \"NONE_DUO_SUPPORT\", \"NONE_DUO_SUPPORT\""
   ]
  },
  {
   "cell_type": "markdown",
   "metadata": {},
   "source": [
    "For game 3907056015, blue botlane quickly regrouped at the midlane, hence a composition of [\"JUNGLE_NONE\", \"MIDDLE_DUO\", \"MIDDLE_DUO\", \"MIDDLE_DUO_SUPPORT\", \"TOP_SOLO\"]"
   ]
  },
  {
   "cell_type": "markdown",
   "metadata": {},
   "source": [
    "One of the most common misclassification can be found in game 3903980933 where the jungler is considered as midlane or toplane support."
   ]
  },
  {
   "cell_type": "markdown",
   "metadata": {},
   "source": [
    "Every game does not strictly follows the metagame, and should not get the usual [\"BOTTOM_DUO_CARRY\", \"BOTTOM_DUO_SUPPORT\", \"JUNGLE_NONE\", \"MIDDLE_SOLO\", \"TOP_SOLO\"] composition to be accurate, but as shown, one third of the teams is not classified as following the metagame, which, given the current state of the game, not realistic."
   ]
  },
  {
   "cell_type": "markdown",
   "metadata": {},
   "source": [
    "## Feature selection"
   ]
  },
  {
   "cell_type": "markdown",
   "metadata": {},
   "source": [
    "A key part of the work here is to select features, from the data we can obtain of a game, that will help to classify each player role in the game, based on some expert knowledge of League of Legends."
   ]
  },
  {
   "cell_type": "markdown",
   "metadata": {},
   "source": [
    "### Map position"
   ]
  },
  {
   "cell_type": "markdown",
   "metadata": {},
   "source": [
    "The most usefull data we can get from the API is the position of each player on the map every minute. Given that most roles have an assigned lane and that the players tends to keep on the lane during the first minutes of the match, this can be the most helpful informationfor our task."
   ]
  },
  {
   "cell_type": "markdown",
   "metadata": {},
   "source": [
    "We start to define the area of each lane using the map data available here : https://developer.riotgames.com/game-constants.html and some manual work to select the areas"
   ]
  },
  {
   "cell_type": "code",
   "execution_count": 4,
   "metadata": {},
   "outputs": [],
   "source": [
    "import numpy as np\n",
    "import matplotlib.path as mplPath\n",
    "\n",
    "midlane = mplPath.Path(np.array([[4200 ,3500],[11300 ,10500],[13200 ,13200],[10500 ,11300],[3300 ,4400],[1600,1600]]))\n",
    "toplane = mplPath.Path(np.array([[-120 ,1600],[-120 ,14980],[13200 ,14980],[13200 ,13200],[4000 ,13200],[1600,11000],[1600 ,1600]]))\n",
    "botlane = mplPath.Path(np.array([[1600 ,-120],[14870,-120],[14870,13200],[13200,13200],[13270,4000],[10500,1700],[1600,1600]]))\n",
    "jungle1 = mplPath.Path(np.array([[1600,5000],[1600,11000],[4000 ,13200],[9800 ,13200],[10500 ,11300],[3300 ,4400]]))\n",
    "jungle2 = mplPath.Path(np.array([[5000,1700],[4200 ,3500],[11300 ,10500],[13270,9900],[13270,4000],[10500,1700]]))"
   ]
  },
  {
   "cell_type": "markdown",
   "metadata": {},
   "source": [
    "Then, using those defined area, we can create a function that will list every position of each player in a game."
   ]
  },
  {
   "cell_type": "code",
   "execution_count": 5,
   "metadata": {},
   "outputs": [],
   "source": [
    "def getPositions(timeline):\n",
    "    frames = timeline['frames']\n",
    "    \n",
    "    participantsPositions = {1:[],2:[],3:[],4:[],5:[],6:[],7:[],8:[],9:[],10:[]}\n",
    "    # 10 first frames except the really first one, when everybody spawn\n",
    "    for i in range(1,11):\n",
    "        # For each participant\n",
    "        for k in frames[i]['participantFrames']:\n",
    "            position = None\n",
    "            \n",
    "            # Position on the map\n",
    "            coord = [frames[i]['participantFrames'][k]['position']['x'],frames[i]['participantFrames'][k]['position']['y']]\n",
    "            # Check where is the position\n",
    "            if jungle1.contains_point(coord) or jungle2.contains_point(coord):\n",
    "                position = \"jungle\"\n",
    "            elif midlane.contains_point(coord):\n",
    "                position = \"mid\"\n",
    "            elif toplane.contains_point(coord):\n",
    "                position = \"top\"\n",
    "            elif botlane.contains_point(coord):\n",
    "                position = \"bot\"\n",
    "            # Save the position for the participant\n",
    "            participantsPositions[int(k)].append(position)\n",
    "    return participantsPositions"
   ]
  },
  {
   "cell_type": "code",
   "execution_count": 16,
   "metadata": {},
   "outputs": [
    {
     "name": "stdout",
     "output_type": "stream",
     "text": [
      "1 : ['bot', 'bot', 'bot', 'bot', 'bot', 'bot', 'bot', 'bot', 'bot', 'bot']\n",
      "2 : ['jungle', 'jungle', 'jungle', 'jungle', 'jungle', 'mid', 'bot', 'jungle', 'jungle', 'jungle']\n",
      "3 : ['jungle', 'bot', 'bot', 'bot', 'jungle', 'bot', 'bot', 'bot', 'bot', 'bot']\n",
      "4 : ['jungle', 'mid', 'mid', 'mid', 'mid', 'mid', 'mid', 'jungle', 'mid', 'mid']\n",
      "5 : ['top', 'top', 'top', 'top', 'bot', 'top', 'top', 'jungle', 'top', 'jungle']\n",
      "6 : ['mid', 'mid', 'mid', 'mid', 'mid', 'mid', 'mid', 'jungle', 'jungle', 'mid']\n",
      "7 : ['jungle', 'bot', 'bot', 'bot', 'bot', 'bot', 'bot', 'bot', 'jungle', 'bot']\n",
      "8 : ['jungle', 'bot', 'bot', 'bot', 'bot', 'bot', 'jungle', 'jungle', 'bot', 'bot']\n",
      "9 : ['jungle', 'jungle', 'jungle', 'jungle', 'jungle', 'jungle', 'jungle', 'jungle', 'jungle', 'jungle']\n",
      "10 : ['jungle', 'top', 'top', 'top', 'top', 'jungle', 'top', 'top', 'top', 'top']\n"
     ]
    }
   ],
   "source": [
    "for i,j in getPositions(g[\"timeline\"]).items():\n",
    "    print(str(i)+\" : \"+str(j))"
   ]
  },
  {
   "cell_type": "markdown",
   "metadata": {},
   "source": [
    "We can use the results of this function as is and feed it directly in the dataset, but easing the process and giving the most visited lane in early game might help."
   ]
  },
  {
   "cell_type": "code",
   "execution_count": 27,
   "metadata": {},
   "outputs": [],
   "source": [
    "def getMostFrequentLane(participantsPositions):\n",
    "    mostFrequentLane = {}\n",
    "    for participant in participantsPositions:\n",
    "        laneFrequency = {\"mid\":0,\"top\":0,\"bot\":0,\"jungle\":0}\n",
    "        \n",
    "        for lane in participantsPositions[participant]:\n",
    "            if not lane == None:\n",
    "                laneFrequency[lane] += 1\n",
    "        \n",
    "        mostFrequentLane[participant] = max(laneFrequency, key=laneFrequency.get)\n",
    "    return mostFrequentLane"
   ]
  },
  {
   "cell_type": "code",
   "execution_count": 28,
   "metadata": {},
   "outputs": [
    {
     "data": {
      "text/plain": [
       "{1: 'bot',\n",
       " 2: 'jungle',\n",
       " 3: 'bot',\n",
       " 4: 'mid',\n",
       " 5: 'top',\n",
       " 6: 'mid',\n",
       " 7: 'bot',\n",
       " 8: 'bot',\n",
       " 9: 'jungle',\n",
       " 10: 'top'}"
      ]
     },
     "execution_count": 28,
     "metadata": {},
     "output_type": "execute_result"
    }
   ],
   "source": [
    "getMostFrequentLane(getPositions(g[\"timeline\"]))"
   ]
  },
  {
   "cell_type": "markdown",
   "metadata": {},
   "source": [
    "This way, we can easily have access to ealr game positions and the most frequent position for each player in the game."
   ]
  },
  {
   "cell_type": "markdown",
   "metadata": {},
   "source": [
    "### Items"
   ]
  },
  {
   "cell_type": "markdown",
   "metadata": {},
   "source": [
    "Another very discriminating aspect of the game regarding role is the build of the players. Some items are mostly used by only a few roles. However, as there is hundreds of items in the game and a player being able to buy more than one item, doing a simple one-hot-encode would take too much features to be efficient. The way we will do it is by analyzing games and list trends in items by role."
   ]
  },
  {
   "cell_type": "markdown",
   "metadata": {},
   "source": [
    "For this analysis, we will only select the game showing the usual [\"BOTTOM_DUO_CARRY\", \"BOTTOM_DUO_SUPPORT\", \"JUNGLE_NONE\", \"MIDDLE_SOLO\", \"TOP_SOLO\"] composition, as it is quite reliable for this purpose."
   ]
  },
  {
   "cell_type": "code",
   "execution_count": 30,
   "metadata": {},
   "outputs": [],
   "source": [
    "#Initializing the target composition\n",
    "role_composition = set([\"JUNGLE_NONE\",\"TOP_SOLO\",\"MIDDLE_SOLO\",\"BOTTOM_DUO_CARRY\",\"BOTTOM_DUO_SUPPORT\"])\n",
    "\n",
    "import requests\n",
    "#Initializing the itemsPlayed array\n",
    "itemsPlayed = {}\n",
    "\n",
    "r = requests.get('http://ddragon.leagueoflegends.com/cdn/9.2.1/data/en_US/item.json')\n",
    "dataItems = r.json()\n",
    "for r in role_composition:\n",
    "    itemsPlayed[r] = {}\n",
    "    for i in dataItems['data']:\n",
    "        itemsPlayed[r][int(i)] = 0\n",
    "\n",
    "\n",
    "for g in gamesTable.find({ \"gameDuration\": { \"$gt\": 900 }, \"mapId\":11 }).limit(10000):\n",
    "    \n",
    "    \n",
    "    #Get teams that have a perfect metagame composition\n",
    "    positionsByTeam = {100:[],200:[]}\n",
    "    for p in g['participants']:\n",
    "        positionsByTeam[p['teamId']].append(p['timeline']['lane']+\"_\"+p['timeline']['role'])\n",
    "    teamOK = {}\n",
    "    teamOK[100] = role_composition == set(positionsByTeam[100])\n",
    "    teamOK[200] = role_composition == set(positionsByTeam[200])\n",
    "    \n",
    "    #Get items used\n",
    "    for p in g['participants']:\n",
    "        if teamOK[p['teamId']]:\n",
    "            \n",
    "            #For all item slots\n",
    "            for i in range(0,7):\n",
    "                #If there is an item in this slot\n",
    "                if p['stats']['item'+str(i)] > 0:\n",
    "                    #Increment item count for the specific role\n",
    "                    itemsPlayed[p['timeline']['lane']+\"_\"+p['timeline']['role']][p['stats']['item'+str(i)]] += 1"
   ]
  },
  {
   "cell_type": "code",
   "execution_count": 33,
   "metadata": {},
   "outputs": [
    {
     "data": {
      "text/html": [
       "<div>\n",
       "<style scoped>\n",
       "    .dataframe tbody tr th:only-of-type {\n",
       "        vertical-align: middle;\n",
       "    }\n",
       "\n",
       "    .dataframe tbody tr th {\n",
       "        vertical-align: top;\n",
       "    }\n",
       "\n",
       "    .dataframe thead th {\n",
       "        text-align: right;\n",
       "    }\n",
       "</style>\n",
       "<table border=\"1\" class=\"dataframe\">\n",
       "  <thead>\n",
       "    <tr style=\"text-align: right;\">\n",
       "      <th></th>\n",
       "      <th>1001</th>\n",
       "      <th>1004</th>\n",
       "      <th>1006</th>\n",
       "      <th>1011</th>\n",
       "      <th>1026</th>\n",
       "      <th>1027</th>\n",
       "      <th>1028</th>\n",
       "      <th>1029</th>\n",
       "      <th>1031</th>\n",
       "      <th>1033</th>\n",
       "      <th>...</th>\n",
       "      <th>4105</th>\n",
       "      <th>4201</th>\n",
       "      <th>4202</th>\n",
       "      <th>4203</th>\n",
       "      <th>4204</th>\n",
       "      <th>4301</th>\n",
       "      <th>4302</th>\n",
       "      <th>4401</th>\n",
       "      <th>4402</th>\n",
       "      <th>4403</th>\n",
       "    </tr>\n",
       "  </thead>\n",
       "  <tbody>\n",
       "    <tr>\n",
       "      <th>MIDDLE_SOLO</th>\n",
       "      <td>274</td>\n",
       "      <td>23</td>\n",
       "      <td>2</td>\n",
       "      <td>32</td>\n",
       "      <td>1790</td>\n",
       "      <td>21</td>\n",
       "      <td>504</td>\n",
       "      <td>142</td>\n",
       "      <td>77</td>\n",
       "      <td>207</td>\n",
       "      <td>...</td>\n",
       "      <td>0</td>\n",
       "      <td>0</td>\n",
       "      <td>0</td>\n",
       "      <td>0</td>\n",
       "      <td>0</td>\n",
       "      <td>0</td>\n",
       "      <td>0</td>\n",
       "      <td>0</td>\n",
       "      <td>0</td>\n",
       "      <td>0</td>\n",
       "    </tr>\n",
       "    <tr>\n",
       "      <th>BOTTOM_DUO_CARRY</th>\n",
       "      <td>238</td>\n",
       "      <td>54</td>\n",
       "      <td>0</td>\n",
       "      <td>25</td>\n",
       "      <td>214</td>\n",
       "      <td>37</td>\n",
       "      <td>117</td>\n",
       "      <td>73</td>\n",
       "      <td>79</td>\n",
       "      <td>259</td>\n",
       "      <td>...</td>\n",
       "      <td>0</td>\n",
       "      <td>0</td>\n",
       "      <td>0</td>\n",
       "      <td>0</td>\n",
       "      <td>0</td>\n",
       "      <td>0</td>\n",
       "      <td>0</td>\n",
       "      <td>0</td>\n",
       "      <td>0</td>\n",
       "      <td>0</td>\n",
       "    </tr>\n",
       "    <tr>\n",
       "      <th>TOP_SOLO</th>\n",
       "      <td>320</td>\n",
       "      <td>10</td>\n",
       "      <td>61</td>\n",
       "      <td>395</td>\n",
       "      <td>658</td>\n",
       "      <td>48</td>\n",
       "      <td>1230</td>\n",
       "      <td>545</td>\n",
       "      <td>513</td>\n",
       "      <td>455</td>\n",
       "      <td>...</td>\n",
       "      <td>0</td>\n",
       "      <td>0</td>\n",
       "      <td>0</td>\n",
       "      <td>0</td>\n",
       "      <td>0</td>\n",
       "      <td>0</td>\n",
       "      <td>0</td>\n",
       "      <td>0</td>\n",
       "      <td>0</td>\n",
       "      <td>0</td>\n",
       "    </tr>\n",
       "    <tr>\n",
       "      <th>JUNGLE_NONE</th>\n",
       "      <td>473</td>\n",
       "      <td>3</td>\n",
       "      <td>33</td>\n",
       "      <td>645</td>\n",
       "      <td>408</td>\n",
       "      <td>50</td>\n",
       "      <td>1543</td>\n",
       "      <td>715</td>\n",
       "      <td>702</td>\n",
       "      <td>417</td>\n",
       "      <td>...</td>\n",
       "      <td>0</td>\n",
       "      <td>0</td>\n",
       "      <td>0</td>\n",
       "      <td>0</td>\n",
       "      <td>0</td>\n",
       "      <td>0</td>\n",
       "      <td>0</td>\n",
       "      <td>0</td>\n",
       "      <td>0</td>\n",
       "      <td>0</td>\n",
       "    </tr>\n",
       "    <tr>\n",
       "      <th>BOTTOM_DUO_SUPPORT</th>\n",
       "      <td>364</td>\n",
       "      <td>511</td>\n",
       "      <td>48</td>\n",
       "      <td>92</td>\n",
       "      <td>505</td>\n",
       "      <td>45</td>\n",
       "      <td>1190</td>\n",
       "      <td>1082</td>\n",
       "      <td>481</td>\n",
       "      <td>1017</td>\n",
       "      <td>...</td>\n",
       "      <td>0</td>\n",
       "      <td>0</td>\n",
       "      <td>0</td>\n",
       "      <td>0</td>\n",
       "      <td>0</td>\n",
       "      <td>0</td>\n",
       "      <td>0</td>\n",
       "      <td>0</td>\n",
       "      <td>0</td>\n",
       "      <td>0</td>\n",
       "    </tr>\n",
       "  </tbody>\n",
       "</table>\n",
       "<p>5 rows × 319 columns</p>\n",
       "</div>"
      ],
      "text/plain": [
       "                    1001  1004  1006  1011  1026  1027  1028  1029  1031  \\\n",
       "MIDDLE_SOLO          274    23     2    32  1790    21   504   142    77   \n",
       "BOTTOM_DUO_CARRY     238    54     0    25   214    37   117    73    79   \n",
       "TOP_SOLO             320    10    61   395   658    48  1230   545   513   \n",
       "JUNGLE_NONE          473     3    33   645   408    50  1543   715   702   \n",
       "BOTTOM_DUO_SUPPORT   364   511    48    92   505    45  1190  1082   481   \n",
       "\n",
       "                    1033  ...  4105  4201  4202  4203  4204  4301  4302  4401  \\\n",
       "MIDDLE_SOLO          207  ...     0     0     0     0     0     0     0     0   \n",
       "BOTTOM_DUO_CARRY     259  ...     0     0     0     0     0     0     0     0   \n",
       "TOP_SOLO             455  ...     0     0     0     0     0     0     0     0   \n",
       "JUNGLE_NONE          417  ...     0     0     0     0     0     0     0     0   \n",
       "BOTTOM_DUO_SUPPORT  1017  ...     0     0     0     0     0     0     0     0   \n",
       "\n",
       "                    4402  4403  \n",
       "MIDDLE_SOLO            0     0  \n",
       "BOTTOM_DUO_CARRY       0     0  \n",
       "TOP_SOLO               0     0  \n",
       "JUNGLE_NONE            0     0  \n",
       "BOTTOM_DUO_SUPPORT     0     0  \n",
       "\n",
       "[5 rows x 319 columns]"
      ]
     },
     "execution_count": 33,
     "metadata": {},
     "output_type": "execute_result"
    }
   ],
   "source": [
    "import pandas as pd\n",
    "dfItemsFrequency = pd.DataFrame(itemsPlayed).T\n",
    "dfItemsFrequency"
   ]
  },
  {
   "cell_type": "markdown",
   "metadata": {},
   "source": [
    "Then we list items in different category for each role. If an item is taken at more than 90% by a role, we label it as \"over used\", at more than 60% as \"mostly used\" and less than 10%, as \"under used\"."
   ]
  },
  {
   "cell_type": "code",
   "execution_count": 43,
   "metadata": {},
   "outputs": [],
   "source": [
    "overUsedItems = {\n",
    "    \"BOTTOM_DUO_SUPPORT\":[],\n",
    "    \"JUNGLE_NONE\":[],\n",
    "    \"TOP_SOLO\":[],\n",
    "    \"BOTTOM_DUO_CARRY\":[],\n",
    "    \"MIDDLE_SOLO\":[]\n",
    "}\n",
    "\n",
    "mostlyUsedItems = {\n",
    "    \"BOTTOM_DUO_SUPPORT\":[],\n",
    "    \"JUNGLE_NONE\":[],\n",
    "    \"TOP_SOLO\":[],\n",
    "    \"BOTTOM_DUO_CARRY\":[],\n",
    "    \"MIDDLE_SOLO\":[]\n",
    "}\n",
    "\n",
    "underUsedItems = {\n",
    "    \"BOTTOM_DUO_SUPPORT\":[],\n",
    "    \"JUNGLE_NONE\":[],\n",
    "    \"TOP_SOLO\":[],\n",
    "    \"BOTTOM_DUO_CARRY\":[],\n",
    "    \"MIDDLE_SOLO\":[]\n",
    "}\n",
    "\n",
    "for itemId in dfItemsFrequency:\n",
    "    \n",
    "    for role,j in enumerate(dfItemsFrequency[itemId]):\n",
    "        \n",
    "        if j>(dfItemsFrequency[itemId].sum() * 0.9):\n",
    "            overUsedItems[dfItemsFrequency[itemId].index[role]].append(str(itemId))\n",
    "            \n",
    "        elif j>(dfItemsFrequency[itemId].sum() * 0.6):\n",
    "            mostlyUsedItems[dfItemsFrequency[itemId].index[role]].append(str(itemId))\n",
    "            \n",
    "        elif j<(dfItemsFrequency[itemId].sum() * 0.1):\n",
    "            underUsedItems[dfItemsFrequency[itemId].index[role]].append(str(itemId))"
   ]
  },
  {
   "cell_type": "markdown",
   "metadata": {},
   "source": [
    "### Dataset creation"
   ]
  },
  {
   "cell_type": "markdown",
   "metadata": {},
   "source": [
    "Using the previously created function, we can create a dataset from the match data."
   ]
  },
  {
   "cell_type": "code",
   "execution_count": 88,
   "metadata": {},
   "outputs": [],
   "source": [
    "participants = []\n",
    "\n",
    "#Find all games longer than 15 minutes and on the map Summoner's Rift\n",
    "for g in gamesTable.find({ \"gameDuration\": { \"$gt\": 900 }, \"mapId\":11 }).limit(10000):\n",
    "    \n",
    "    #Get teams that have a perfect metagame composition\n",
    "    positionsByTeam = {100:[],200:[]}\n",
    "    for p in g['participants']:\n",
    "        positionsByTeam[p['teamId']].append(p['timeline']['lane']+\"_\"+p['timeline']['role'])\n",
    "    teamOK = {}\n",
    "    teamOK[100] = role_composition == set(positionsByTeam[100])\n",
    "    teamOK[200] = role_composition == set(positionsByTeam[200])\n",
    "    \n",
    "    #Get the players positions form the timeline\n",
    "    playersPositions = getPositions(g['timeline'])\n",
    "    \n",
    "    playerMostFrequentPosition = getMostFrequentLane(playersPositions)\n",
    "    \n",
    "    for p in g['participants']:\n",
    "        \n",
    "        duration = g[\"gameDuration\"]\n",
    "        \n",
    "        #If the participant is not in a perfect metagame team, ignore it\n",
    "        if not teamOK[p['teamId']]:\n",
    "            continue\n",
    "            \n",
    "            \n",
    "        participant = {}\n",
    "        \n",
    "        participantId = p[\"participantId\"]\n",
    "        \n",
    "        lanes = [\"jungle\",\"top\",\"mid\",\"bot\"]\n",
    "        \n",
    "        #one hot encode positions\n",
    "        for lane in lanes:\n",
    "            participant['most-frequent-'+lane] = 0\n",
    "            \n",
    "            for i in range(0,10):\n",
    "                participant['position-'+lane+'-'+str(i)] = 0\n",
    "        \n",
    "        participant['most-frequent-'+ playerMostFrequentPosition[participantId]] = 1\n",
    "        \n",
    "        for t,lane in enumerate(playersPositions[p['participantId']]):\n",
    "            if not lane == None:\n",
    "                participant['position-'+lane+'-'+str(t)] = 1\n",
    "                \n",
    "        #Init items lists \n",
    "        for role in role_composition:\n",
    "            participant[\"has-item-overUsed-\"+role] = 0\n",
    "            participant[\"has-item-mostlyUsed-\"+role] = 0\n",
    "            participant[\"has-item-underUsed-\"+role] = 0\n",
    "        \n",
    "        #Get the item ID for each of the 7 slots and check if they are in one of the three items lists\n",
    "        for i in range(0,7):\n",
    "            \n",
    "            #Check if there is an item for the slot\n",
    "            if p['stats']['item'+str(i)] > 0:\n",
    "                for role in role_composition:\n",
    "\n",
    "                    if str(p['stats']['item'+str(i)]) in overUsedItems[role]:\n",
    "                        participant[\"has-item-overUsed-\"+role] = 1\n",
    "\n",
    "                    if str(p['stats']['item'+str(i)]) in mostlyUsedItems[role]:\n",
    "                        participant[\"has-item-mostlyUsed-\"+role] = 1\n",
    "\n",
    "                    if str(p['stats']['item'+str(i)]) in underUsedItems[role]:\n",
    "                        participant[\"has-item-underUsed-\"+role] = 1\n",
    "                        \n",
    "        \n",
    "        #Player position, what we are looking for\n",
    "        participant['position'] = p['timeline']['lane']+\"_\"+p['timeline']['role']\n",
    "        \n",
    "        #game identification features\n",
    "        participant[\"participantId\"] = participantId\n",
    "        participant[\"gameId\"] = g[\"gameId\"]\n",
    "        \n",
    "        participants.append(participant)"
   ]
  },
  {
   "cell_type": "markdown",
   "metadata": {},
   "source": [
    "And finally putting all the participants in a dataframe and exporting to a csv file."
   ]
  },
  {
   "cell_type": "code",
   "execution_count": 112,
   "metadata": {},
   "outputs": [],
   "source": [
    "df = pd.DataFrame(participants)\n",
    "df.to_csv(\"dataset_participants.csv\")"
   ]
  },
  {
   "cell_type": "markdown",
   "metadata": {},
   "source": [
    "## Learning"
   ]
  },
  {
   "cell_type": "markdown",
   "metadata": {},
   "source": [
    "### Decision tree"
   ]
  },
  {
   "cell_type": "markdown",
   "metadata": {},
   "source": [
    "Decision tree is a model I especially appreciate for its ability to work quite well on complex problems (i.e. non-linear) and its interpretability. This will be the first algorithm we will use."
   ]
  },
  {
   "cell_type": "markdown",
   "metadata": {},
   "source": [
    "First, we prepare our dataset to separate the label from the data, and informations not to be used."
   ]
  },
  {
   "cell_type": "code",
   "execution_count": 116,
   "metadata": {},
   "outputs": [],
   "source": [
    "target = df[\"position\"]\n",
    "data = df.drop([\"position\",\"participantId\",\"gameId\"], axis=1)"
   ]
  },
  {
   "cell_type": "markdown",
   "metadata": {},
   "source": [
    "To ensure reliable results, we do a cross-validation on 10 folds, using the StratifiedShuffleSplit function, a merge of startified k-fold and shuffle split."
   ]
  },
  {
   "cell_type": "code",
   "execution_count": 117,
   "metadata": {},
   "outputs": [
    {
     "name": "stderr",
     "output_type": "stream",
     "text": [
      "/usr/local/lib/python3.6/site-packages/sklearn/model_selection/_split.py:1788: FutureWarning: From version 0.21, test_size will always complement train_size unless both are specified.\n",
      "  FutureWarning)\n"
     ]
    },
    {
     "name": "stdout",
     "output_type": "stream",
     "text": [
      "[0.9938438438438438, 0.9938438438438438, 0.9948948948948949, 0.9941441441441441, 0.9947447447447447, 0.9947447447447447, 0.9945945945945946, 0.9954954954954955, 0.9941441441441441, 0.9936936936936936]\n"
     ]
    },
    {
     "data": {
      "text/plain": [
       "0.9944144144144144"
      ]
     },
     "execution_count": 117,
     "metadata": {},
     "output_type": "execute_result"
    }
   ],
   "source": [
    "from sklearn.model_selection import StratifiedShuffleSplit\n",
    "from sklearn.tree import DecisionTreeClassifier\n",
    "from sklearn.metrics import accuracy_score\n",
    "\n",
    "shuffle_split = StratifiedShuffleSplit(train_size=0.9, n_splits=10)\n",
    "\n",
    "c = DecisionTreeClassifier(criterion=\"entropy\")\n",
    "\n",
    "accs = []\n",
    "\n",
    "for train_index, test_index in shuffle_split.split(data,target):\n",
    "    c.fit(data.iloc[train_index], target.iloc[train_index])\n",
    "    accs.append(accuracy_score(target[test_index], c.predict(data.iloc[test_index])))\n",
    "\n",
    "print(accs)\n",
    "sum(accs) / len(accs)"
   ]
  },
  {
   "cell_type": "markdown",
   "metadata": {},
   "source": [
    "This model shows a very good accuracy with minimal variance for each run. At least using this dataset, the decision tree is able to reproduce very well the classifier from match data."
   ]
  },
  {
   "cell_type": "markdown",
   "metadata": {},
   "source": [
    "We can vizualize the model with graphviz : "
   ]
  },
  {
   "cell_type": "code",
   "execution_count": 124,
   "metadata": {},
   "outputs": [
    {
     "name": "stderr",
     "output_type": "stream",
     "text": [
      "dot: graph is too large for cairo-renderer bitmaps. Scaling by 0.728593 to fit\n"
     ]
    },
    {
     "data": {
      "text/plain": [
       "'tree.png'"
      ]
     },
     "execution_count": 124,
     "metadata": {},
     "output_type": "execute_result"
    }
   ],
   "source": [
    "from sklearn import tree \n",
    "tree.export_graphviz(c,out_file='tree.dot', feature_names=data.columns.values) \n",
    "\n",
    "import graphviz\n",
    "with open(\"./tree.dot\") as f :\n",
    "    dot_graph = f.read()\n",
    "graphviz.Source(dot_graph)\n",
    "graphviz.Source(dot_graph, format=\"png\").render(\"tree\")"
   ]
  },
  {
   "cell_type": "markdown",
   "metadata": {},
   "source": [
    "We can also interpret the model and check for the feature importance : "
   ]
  },
  {
   "cell_type": "code",
   "execution_count": 87,
   "metadata": {},
   "outputs": [
    {
     "data": {
      "text/plain": [
       "[('has-item-overUsed-BOTTOM_DUO_SUPPORT', 0.21924977079479513),\n",
       " ('has-item-overUsed-JUNGLE_NONE', 0.20103462498582575),\n",
       " ('most-frequent-top', 0.19196424695194564),\n",
       " ('most-frequent-mid', 0.18822603291901113),\n",
       " ('has-item-overUsed-BOTTOM_DUO_CARRY', 0.14688478210171443),\n",
       " ('most-frequent-bot', 0.025444734621574535),\n",
       " ('has-item-underUsed-BOTTOM_DUO_CARRY', 0.008412281431664849),\n",
       " ('position-mid-1', 0.0037084826027131007),\n",
       " ('most-frequent-jungle', 0.0020229627798552803),\n",
       " ('position-jungle-1', 0.001879738970058399),\n",
       " ('position-bot-2', 0.001600135013586653),\n",
       " ('position-top-1', 0.001403842946801677),\n",
       " ('position-bot-1', 0.0013473374625705844),\n",
       " ('position-jungle-2', 0.001330852818218696),\n",
       " ('position-mid-2', 0.0012586572047082914),\n",
       " ('position-mid-3', 0.0008247429455926458),\n",
       " ('has-item-mostlyUsed-BOTTOM_DUO_CARRY', 0.0007037492782240552),\n",
       " ('position-bot-6', 0.0005477429021549349),\n",
       " ('has-item-underUsed-MIDDLE_SOLO', 0.00050717967610481),\n",
       " ('position-top-2', 0.00026723050334414233),\n",
       " ('has-item-mostlyUsed-MIDDLE_SOLO', 0.0002546978949318933),\n",
       " ('position-top-3', 0.00021876539130214083),\n",
       " ('position-bot-5', 0.0001223782536174192),\n",
       " ('position-top-4', 9.830184615170599e-05),\n",
       " ('has-item-underUsed-BOTTOM_DUO_SUPPORT', 9.265720473932898e-05),\n",
       " ('position-mid-6', 7.603635405212174e-05),\n",
       " ('position-mid-8', 6.194718972687764e-05),\n",
       " ('position-jungle-7', 5.890267688420574e-05),\n",
       " ('position-bot-9', 5.8148262725756785e-05),\n",
       " ('position-jungle-8', 4.900393586407579e-05),\n",
       " ('position-jungle-0', 4.669862918796355e-05),\n",
       " ('position-jungle-9', 3.595387879662843e-05),\n",
       " ('position-top-5', 2.85397599034269e-05),\n",
       " ('has-item-underUsed-TOP_SOLO', 2.6767374854894527e-05),\n",
       " ('has-item-mostlyUsed-BOTTOM_DUO_SUPPORT', 2.6431254106623697e-05),\n",
       " ('position-bot-7', 2.4995825080368296e-05),\n",
       " ('position-mid-7', 2.1094574251672843e-05),\n",
       " ('position-jungle-6', 2.0646532863493742e-05),\n",
       " ('position-jungle-4', 1.028044918392739e-05),\n",
       " ('position-mid-4', 8.206950024568034e-06),\n",
       " ('position-mid-0', 7.047555812262847e-06),\n",
       " ('position-bot-8', 6.3040342321054495e-06),\n",
       " ('position-bot-4', 5.390269861758851e-06),\n",
       " ('position-top-8', 3.7200450745720155e-06),\n",
       " ('has-item-mostlyUsed-TOP_SOLO', 3.605953590835346e-06),\n",
       " ('position-mid-5', 3.1152671771919465e-06),\n",
       " ('position-top-9', 1.8694118938727437e-06),\n",
       " ('position-top-6', 1.6345994760010757e-06),\n",
       " ('position-mid-9', 1.5345386185045491e-06),\n",
       " ('position-top-7', 1.4311676362625174e-06),\n",
       " ('has-item-underUsed-JUNGLE_NONE', 1.3322021536825497e-06),\n",
       " ('position-jungle-3', 1.110869631261306e-06),\n",
       " ('position-jungle-5', 1.0084770765006937e-06),\n",
       " ('position-top-0', 7.399697662606911e-07),\n",
       " ('has-item-overUsed-TOP_SOLO', 2.1730453577482924e-07),\n",
       " ('has-item-mostlyUsed-JUNGLE_NONE', 1.969708710547055e-07),\n",
       " ('position-bot-3', 1.3848323139880042e-07),\n",
       " ('position-bot-0', 1.9730646999994703e-08),\n",
       " ('has-item-overUsed-MIDDLE_SOLO', 0.0)]"
      ]
     },
     "execution_count": 87,
     "metadata": {},
     "output_type": "execute_result"
    }
   ],
   "source": [
    "fi = []\n",
    "for i in range(0,59):\n",
    "    fi.append((data.columns[i],c.feature_importances_[i]))\n",
    "sorted(fi, key=lambda tup: tup[1], reverse=True)"
   ]
  },
  {
   "cell_type": "markdown",
   "metadata": {},
   "source": [
    "This way, we can see that the most usefull features are the most frequent lanes and some of the over used and under used items by role."
   ]
  },
  {
   "cell_type": "markdown",
   "metadata": {},
   "source": [
    "### Exploring the model"
   ]
  },
  {
   "cell_type": "markdown",
   "metadata": {},
   "source": [
    "The intuition is that the match data classifier is not fully reliable, even for the \"perfect\" composition you've been using to learn. With the limited number of misclassifications, we can manually check the errors using some match report tools\n",
    "\n",
    "https://matchhistory.euw.leagueoflegends.com/fr/#match-details/EUW1/{gameId}\n",
    "\n",
    "http://timeline.canisback.com/game/EUW1/{gameId}"
   ]
  },
  {
   "cell_type": "code",
   "execution_count": 148,
   "metadata": {},
   "outputs": [
    {
     "data": {
      "text/html": [
       "<div>\n",
       "<style scoped>\n",
       "    .dataframe tbody tr th:only-of-type {\n",
       "        vertical-align: middle;\n",
       "    }\n",
       "\n",
       "    .dataframe tbody tr th {\n",
       "        vertical-align: top;\n",
       "    }\n",
       "\n",
       "    .dataframe thead th {\n",
       "        text-align: right;\n",
       "    }\n",
       "</style>\n",
       "<table border=\"1\" class=\"dataframe\">\n",
       "  <thead>\n",
       "    <tr style=\"text-align: right;\">\n",
       "      <th></th>\n",
       "      <th>gameId</th>\n",
       "      <th>participantId</th>\n",
       "      <th>position</th>\n",
       "      <th>position_prediction</th>\n",
       "    </tr>\n",
       "  </thead>\n",
       "  <tbody>\n",
       "    <tr>\n",
       "      <th>29721</th>\n",
       "      <td>3906773310</td>\n",
       "      <td>2</td>\n",
       "      <td>MIDDLE_SOLO</td>\n",
       "      <td>TOP_SOLO</td>\n",
       "    </tr>\n",
       "    <tr>\n",
       "      <th>28815</th>\n",
       "      <td>3908502948</td>\n",
       "      <td>6</td>\n",
       "      <td>MIDDLE_SOLO</td>\n",
       "      <td>TOP_SOLO</td>\n",
       "    </tr>\n",
       "    <tr>\n",
       "      <th>51506</th>\n",
       "      <td>3903834705</td>\n",
       "      <td>2</td>\n",
       "      <td>TOP_SOLO</td>\n",
       "      <td>JUNGLE_NONE</td>\n",
       "    </tr>\n",
       "    <tr>\n",
       "      <th>10502</th>\n",
       "      <td>3904691330</td>\n",
       "      <td>8</td>\n",
       "      <td>TOP_SOLO</td>\n",
       "      <td>MIDDLE_SOLO</td>\n",
       "    </tr>\n",
       "    <tr>\n",
       "      <th>20091</th>\n",
       "      <td>3905988984</td>\n",
       "      <td>2</td>\n",
       "      <td>BOTTOM_DUO_CARRY</td>\n",
       "      <td>BOTTOM_DUO_SUPPORT</td>\n",
       "    </tr>\n",
       "    <tr>\n",
       "      <th>9763</th>\n",
       "      <td>3906055368</td>\n",
       "      <td>9</td>\n",
       "      <td>MIDDLE_SOLO</td>\n",
       "      <td>TOP_SOLO</td>\n",
       "    </tr>\n",
       "    <tr>\n",
       "      <th>42375</th>\n",
       "      <td>3905147178</td>\n",
       "      <td>6</td>\n",
       "      <td>TOP_SOLO</td>\n",
       "      <td>JUNGLE_NONE</td>\n",
       "    </tr>\n",
       "    <tr>\n",
       "      <th>22832</th>\n",
       "      <td>3906085185</td>\n",
       "      <td>3</td>\n",
       "      <td>MIDDLE_SOLO</td>\n",
       "      <td>JUNGLE_NONE</td>\n",
       "    </tr>\n",
       "    <tr>\n",
       "      <th>51001</th>\n",
       "      <td>3907362555</td>\n",
       "      <td>7</td>\n",
       "      <td>MIDDLE_SOLO</td>\n",
       "      <td>JUNGLE_NONE</td>\n",
       "    </tr>\n",
       "    <tr>\n",
       "      <th>55982</th>\n",
       "      <td>3904105855</td>\n",
       "      <td>8</td>\n",
       "      <td>TOP_SOLO</td>\n",
       "      <td>MIDDLE_SOLO</td>\n",
       "    </tr>\n",
       "    <tr>\n",
       "      <th>18934</th>\n",
       "      <td>3905161494</td>\n",
       "      <td>5</td>\n",
       "      <td>MIDDLE_SOLO</td>\n",
       "      <td>JUNGLE_NONE</td>\n",
       "    </tr>\n",
       "    <tr>\n",
       "      <th>50491</th>\n",
       "      <td>3906252868</td>\n",
       "      <td>2</td>\n",
       "      <td>MIDDLE_SOLO</td>\n",
       "      <td>TOP_SOLO</td>\n",
       "    </tr>\n",
       "    <tr>\n",
       "      <th>12706</th>\n",
       "      <td>3904281155</td>\n",
       "      <td>7</td>\n",
       "      <td>TOP_SOLO</td>\n",
       "      <td>MIDDLE_SOLO</td>\n",
       "    </tr>\n",
       "    <tr>\n",
       "      <th>23483</th>\n",
       "      <td>3907885853</td>\n",
       "      <td>9</td>\n",
       "      <td>TOP_SOLO</td>\n",
       "      <td>MIDDLE_SOLO</td>\n",
       "    </tr>\n",
       "    <tr>\n",
       "      <th>52531</th>\n",
       "      <td>3906781300</td>\n",
       "      <td>2</td>\n",
       "      <td>MIDDLE_SOLO</td>\n",
       "      <td>TOP_SOLO</td>\n",
       "    </tr>\n",
       "    <tr>\n",
       "      <th>5765</th>\n",
       "      <td>3907804480</td>\n",
       "      <td>6</td>\n",
       "      <td>MIDDLE_SOLO</td>\n",
       "      <td>TOP_SOLO</td>\n",
       "    </tr>\n",
       "    <tr>\n",
       "      <th>16152</th>\n",
       "      <td>3906016805</td>\n",
       "      <td>3</td>\n",
       "      <td>TOP_SOLO</td>\n",
       "      <td>MIDDLE_SOLO</td>\n",
       "    </tr>\n",
       "    <tr>\n",
       "      <th>39456</th>\n",
       "      <td>3905911983</td>\n",
       "      <td>2</td>\n",
       "      <td>TOP_SOLO</td>\n",
       "      <td>MIDDLE_SOLO</td>\n",
       "    </tr>\n",
       "    <tr>\n",
       "      <th>58789</th>\n",
       "      <td>3905096892</td>\n",
       "      <td>10</td>\n",
       "      <td>MIDDLE_SOLO</td>\n",
       "      <td>TOP_SOLO</td>\n",
       "    </tr>\n",
       "    <tr>\n",
       "      <th>43366</th>\n",
       "      <td>3905076115</td>\n",
       "      <td>7</td>\n",
       "      <td>MIDDLE_SOLO</td>\n",
       "      <td>TOP_SOLO</td>\n",
       "    </tr>\n",
       "    <tr>\n",
       "      <th>20711</th>\n",
       "      <td>3904642128</td>\n",
       "      <td>2</td>\n",
       "      <td>MIDDLE_SOLO</td>\n",
       "      <td>BOTTOM_DUO_SUPPORT</td>\n",
       "    </tr>\n",
       "    <tr>\n",
       "      <th>16724</th>\n",
       "      <td>3904005915</td>\n",
       "      <td>5</td>\n",
       "      <td>TOP_SOLO</td>\n",
       "      <td>MIDDLE_SOLO</td>\n",
       "    </tr>\n",
       "    <tr>\n",
       "      <th>33402</th>\n",
       "      <td>3903868851</td>\n",
       "      <td>3</td>\n",
       "      <td>TOP_SOLO</td>\n",
       "      <td>MIDDLE_SOLO</td>\n",
       "    </tr>\n",
       "    <tr>\n",
       "      <th>37800</th>\n",
       "      <td>3908534585</td>\n",
       "      <td>1</td>\n",
       "      <td>TOP_SOLO</td>\n",
       "      <td>MIDDLE_SOLO</td>\n",
       "    </tr>\n",
       "    <tr>\n",
       "      <th>37527</th>\n",
       "      <td>3905016517</td>\n",
       "      <td>8</td>\n",
       "      <td>BOTTOM_DUO_SUPPORT</td>\n",
       "      <td>BOTTOM_DUO_CARRY</td>\n",
       "    </tr>\n",
       "    <tr>\n",
       "      <th>8727</th>\n",
       "      <td>3905942103</td>\n",
       "      <td>3</td>\n",
       "      <td>MIDDLE_SOLO</td>\n",
       "      <td>TOP_SOLO</td>\n",
       "    </tr>\n",
       "    <tr>\n",
       "      <th>5199</th>\n",
       "      <td>3907203251</td>\n",
       "      <td>5</td>\n",
       "      <td>BOTTOM_DUO_SUPPORT</td>\n",
       "      <td>BOTTOM_DUO_CARRY</td>\n",
       "    </tr>\n",
       "    <tr>\n",
       "      <th>61240</th>\n",
       "      <td>3905985379</td>\n",
       "      <td>1</td>\n",
       "      <td>MIDDLE_SOLO</td>\n",
       "      <td>TOP_SOLO</td>\n",
       "    </tr>\n",
       "    <tr>\n",
       "      <th>41281</th>\n",
       "      <td>3907202691</td>\n",
       "      <td>2</td>\n",
       "      <td>MIDDLE_SOLO</td>\n",
       "      <td>TOP_SOLO</td>\n",
       "    </tr>\n",
       "    <tr>\n",
       "      <th>55869</th>\n",
       "      <td>3904538694</td>\n",
       "      <td>10</td>\n",
       "      <td>BOTTOM_DUO_SUPPORT</td>\n",
       "      <td>BOTTOM_DUO_CARRY</td>\n",
       "    </tr>\n",
       "    <tr>\n",
       "      <th>9273</th>\n",
       "      <td>3904163586</td>\n",
       "      <td>4</td>\n",
       "      <td>MIDDLE_SOLO</td>\n",
       "      <td>TOP_SOLO</td>\n",
       "    </tr>\n",
       "    <tr>\n",
       "      <th>13732</th>\n",
       "      <td>3906971421</td>\n",
       "      <td>8</td>\n",
       "      <td>BOTTOM_DUO_SUPPORT</td>\n",
       "      <td>BOTTOM_DUO_CARRY</td>\n",
       "    </tr>\n",
       "    <tr>\n",
       "      <th>45762</th>\n",
       "      <td>3908571724</td>\n",
       "      <td>3</td>\n",
       "      <td>MIDDLE_SOLO</td>\n",
       "      <td>TOP_SOLO</td>\n",
       "    </tr>\n",
       "    <tr>\n",
       "      <th>58323</th>\n",
       "      <td>3905125906</td>\n",
       "      <td>4</td>\n",
       "      <td>TOP_SOLO</td>\n",
       "      <td>MIDDLE_SOLO</td>\n",
       "    </tr>\n",
       "    <tr>\n",
       "      <th>39853</th>\n",
       "      <td>3903292272</td>\n",
       "      <td>4</td>\n",
       "      <td>MIDDLE_SOLO</td>\n",
       "      <td>TOP_SOLO</td>\n",
       "    </tr>\n",
       "    <tr>\n",
       "      <th>33473</th>\n",
       "      <td>3907117884</td>\n",
       "      <td>9</td>\n",
       "      <td>TOP_SOLO</td>\n",
       "      <td>MIDDLE_SOLO</td>\n",
       "    </tr>\n",
       "    <tr>\n",
       "      <th>4723</th>\n",
       "      <td>3904387369</td>\n",
       "      <td>4</td>\n",
       "      <td>TOP_SOLO</td>\n",
       "      <td>MIDDLE_SOLO</td>\n",
       "    </tr>\n",
       "    <tr>\n",
       "      <th>66532</th>\n",
       "      <td>3906780358</td>\n",
       "      <td>8</td>\n",
       "      <td>JUNGLE_NONE</td>\n",
       "      <td>TOP_SOLO</td>\n",
       "    </tr>\n",
       "    <tr>\n",
       "      <th>19157</th>\n",
       "      <td>3904449294</td>\n",
       "      <td>3</td>\n",
       "      <td>MIDDLE_SOLO</td>\n",
       "      <td>TOP_SOLO</td>\n",
       "    </tr>\n",
       "    <tr>\n",
       "      <th>28049</th>\n",
       "      <td>3908377926</td>\n",
       "      <td>5</td>\n",
       "      <td>MIDDLE_SOLO</td>\n",
       "      <td>JUNGLE_NONE</td>\n",
       "    </tr>\n",
       "    <tr>\n",
       "      <th>64694</th>\n",
       "      <td>3905162655</td>\n",
       "      <td>5</td>\n",
       "      <td>TOP_SOLO</td>\n",
       "      <td>MIDDLE_SOLO</td>\n",
       "    </tr>\n",
       "    <tr>\n",
       "      <th>61827</th>\n",
       "      <td>3907073240</td>\n",
       "      <td>8</td>\n",
       "      <td>TOP_SOLO</td>\n",
       "      <td>JUNGLE_NONE</td>\n",
       "    </tr>\n",
       "  </tbody>\n",
       "</table>\n",
       "</div>"
      ],
      "text/plain": [
       "           gameId  participantId            position position_prediction\n",
       "29721  3906773310  2              MIDDLE_SOLO         TOP_SOLO          \n",
       "28815  3908502948  6              MIDDLE_SOLO         TOP_SOLO          \n",
       "51506  3903834705  2              TOP_SOLO            JUNGLE_NONE       \n",
       "10502  3904691330  8              TOP_SOLO            MIDDLE_SOLO       \n",
       "20091  3905988984  2              BOTTOM_DUO_CARRY    BOTTOM_DUO_SUPPORT\n",
       "9763   3906055368  9              MIDDLE_SOLO         TOP_SOLO          \n",
       "42375  3905147178  6              TOP_SOLO            JUNGLE_NONE       \n",
       "22832  3906085185  3              MIDDLE_SOLO         JUNGLE_NONE       \n",
       "51001  3907362555  7              MIDDLE_SOLO         JUNGLE_NONE       \n",
       "55982  3904105855  8              TOP_SOLO            MIDDLE_SOLO       \n",
       "18934  3905161494  5              MIDDLE_SOLO         JUNGLE_NONE       \n",
       "50491  3906252868  2              MIDDLE_SOLO         TOP_SOLO          \n",
       "12706  3904281155  7              TOP_SOLO            MIDDLE_SOLO       \n",
       "23483  3907885853  9              TOP_SOLO            MIDDLE_SOLO       \n",
       "52531  3906781300  2              MIDDLE_SOLO         TOP_SOLO          \n",
       "5765   3907804480  6              MIDDLE_SOLO         TOP_SOLO          \n",
       "16152  3906016805  3              TOP_SOLO            MIDDLE_SOLO       \n",
       "39456  3905911983  2              TOP_SOLO            MIDDLE_SOLO       \n",
       "58789  3905096892  10             MIDDLE_SOLO         TOP_SOLO          \n",
       "43366  3905076115  7              MIDDLE_SOLO         TOP_SOLO          \n",
       "20711  3904642128  2              MIDDLE_SOLO         BOTTOM_DUO_SUPPORT\n",
       "16724  3904005915  5              TOP_SOLO            MIDDLE_SOLO       \n",
       "33402  3903868851  3              TOP_SOLO            MIDDLE_SOLO       \n",
       "37800  3908534585  1              TOP_SOLO            MIDDLE_SOLO       \n",
       "37527  3905016517  8              BOTTOM_DUO_SUPPORT  BOTTOM_DUO_CARRY  \n",
       "8727   3905942103  3              MIDDLE_SOLO         TOP_SOLO          \n",
       "5199   3907203251  5              BOTTOM_DUO_SUPPORT  BOTTOM_DUO_CARRY  \n",
       "61240  3905985379  1              MIDDLE_SOLO         TOP_SOLO          \n",
       "41281  3907202691  2              MIDDLE_SOLO         TOP_SOLO          \n",
       "55869  3904538694  10             BOTTOM_DUO_SUPPORT  BOTTOM_DUO_CARRY  \n",
       "9273   3904163586  4              MIDDLE_SOLO         TOP_SOLO          \n",
       "13732  3906971421  8              BOTTOM_DUO_SUPPORT  BOTTOM_DUO_CARRY  \n",
       "45762  3908571724  3              MIDDLE_SOLO         TOP_SOLO          \n",
       "58323  3905125906  4              TOP_SOLO            MIDDLE_SOLO       \n",
       "39853  3903292272  4              MIDDLE_SOLO         TOP_SOLO          \n",
       "33473  3907117884  9              TOP_SOLO            MIDDLE_SOLO       \n",
       "4723   3904387369  4              TOP_SOLO            MIDDLE_SOLO       \n",
       "66532  3906780358  8              JUNGLE_NONE         TOP_SOLO          \n",
       "19157  3904449294  3              MIDDLE_SOLO         TOP_SOLO          \n",
       "28049  3908377926  5              MIDDLE_SOLO         JUNGLE_NONE       \n",
       "64694  3905162655  5              TOP_SOLO            MIDDLE_SOLO       \n",
       "61827  3907073240  8              TOP_SOLO            JUNGLE_NONE       "
      ]
     },
     "execution_count": 148,
     "metadata": {},
     "output_type": "execute_result"
    }
   ],
   "source": [
    "dataTest = df.loc[test_index]\n",
    "\n",
    "dataTest[\"position_prediction\"] = c.predict(data.iloc[test_index])\n",
    "dataTest[\"correct\"] = dataTest[\"position\"] == dataTest[\"position_prediction\"]\n",
    "dfTest = dataTest[dataTest[\"correct\"] == False][[\"gameId\",\"participantId\",\"position\",\"position_prediction\"]]\n",
    "dfTest"
   ]
  },
  {
   "cell_type": "markdown",
   "metadata": {},
   "source": [
    "Checking the first game, with gameId 3906773310, https://matchhistory.euw.leagueoflegends.com/fr/#match-details/EUW1/3906773310?tab=overview , http://timeline.canisback.com/game/EUW1/3906773310 , the match data classify the Akali as a midlane player, while our classifier predict as toplaner. By checking the data and using the tree vizualization, we can check where is the problem.\n"
   ]
  },
  {
   "cell_type": "code",
   "execution_count": 162,
   "metadata": {},
   "outputs": [
    {
     "data": {
      "text/plain": [
       "{'gameId': 3906773310,\n",
       " 'has-item-mostlyUsed-BOTTOM_DUO_CARRY': 0,\n",
       " 'has-item-mostlyUsed-BOTTOM_DUO_SUPPORT': 0,\n",
       " 'has-item-mostlyUsed-JUNGLE_NONE': 0,\n",
       " 'has-item-mostlyUsed-MIDDLE_SOLO': 0,\n",
       " 'has-item-mostlyUsed-TOP_SOLO': 0,\n",
       " 'has-item-overUsed-BOTTOM_DUO_CARRY': 0,\n",
       " 'has-item-overUsed-BOTTOM_DUO_SUPPORT': 0,\n",
       " 'has-item-overUsed-JUNGLE_NONE': 0,\n",
       " 'has-item-overUsed-MIDDLE_SOLO': 0,\n",
       " 'has-item-overUsed-TOP_SOLO': 0,\n",
       " 'has-item-underUsed-BOTTOM_DUO_CARRY': 1,\n",
       " 'has-item-underUsed-BOTTOM_DUO_SUPPORT': 1,\n",
       " 'has-item-underUsed-JUNGLE_NONE': 1,\n",
       " 'has-item-underUsed-MIDDLE_SOLO': 0,\n",
       " 'has-item-underUsed-TOP_SOLO': 0,\n",
       " 'most-frequent-bot': 0,\n",
       " 'most-frequent-jungle': 0,\n",
       " 'most-frequent-mid': 1,\n",
       " 'most-frequent-top': 0,\n",
       " 'participantId': 2,\n",
       " 'position': 'MIDDLE_SOLO',\n",
       " 'position-bot-0': 0,\n",
       " 'position-bot-1': 0,\n",
       " 'position-bot-2': 0,\n",
       " 'position-bot-3': 0,\n",
       " 'position-bot-4': 0,\n",
       " 'position-bot-5': 0,\n",
       " 'position-bot-6': 0,\n",
       " 'position-bot-7': 0,\n",
       " 'position-bot-8': 0,\n",
       " 'position-bot-9': 0,\n",
       " 'position-jungle-0': 1,\n",
       " 'position-jungle-1': 0,\n",
       " 'position-jungle-2': 0,\n",
       " 'position-jungle-3': 0,\n",
       " 'position-jungle-4': 0,\n",
       " 'position-jungle-5': 0,\n",
       " 'position-jungle-6': 0,\n",
       " 'position-jungle-7': 1,\n",
       " 'position-jungle-8': 1,\n",
       " 'position-jungle-9': 1,\n",
       " 'position-mid-0': 0,\n",
       " 'position-mid-1': 1,\n",
       " 'position-mid-2': 1,\n",
       " 'position-mid-3': 1,\n",
       " 'position-mid-4': 1,\n",
       " 'position-mid-5': 1,\n",
       " 'position-mid-6': 0,\n",
       " 'position-mid-7': 0,\n",
       " 'position-mid-8': 0,\n",
       " 'position-mid-9': 0,\n",
       " 'position-top-0': 0,\n",
       " 'position-top-1': 0,\n",
       " 'position-top-2': 0,\n",
       " 'position-top-3': 0,\n",
       " 'position-top-4': 0,\n",
       " 'position-top-5': 0,\n",
       " 'position-top-6': 0,\n",
       " 'position-top-7': 0,\n",
       " 'position-top-8': 0,\n",
       " 'position-top-9': 0}"
      ]
     },
     "execution_count": 162,
     "metadata": {},
     "output_type": "execute_result"
    }
   ],
   "source": [
    "df[((df[\"gameId\"] == 3906773310) & (df[\"participantId\"] == 2))].iloc[0].to_dict()"
   ]
  },
  {
   "cell_type": "markdown",
   "metadata": {},
   "source": [
    "Following the decision path, we can see that the trees overgrow on positions, and given that Akali was not midlane from minutes 6 to 9, that she does not have overused items for midlane and does not have underused items for both midlane and toplane, the confusion is understandable. On the other hand, she has not come once toplane, which is quite a mistake from the model, but open to better feature selection options, like instead of having a feature for each lane/minute position, giving the lane presence frequency would reduce the number of features and higher the accuracy.\n",
    "\n",
    "But first we should investigate others misclassification cases."
   ]
  },
  {
   "cell_type": "code",
   "execution_count": 160,
   "metadata": {},
   "outputs": [
    {
     "data": {
      "text/html": [
       "<div>\n",
       "<style scoped>\n",
       "    .dataframe tbody tr th:only-of-type {\n",
       "        vertical-align: middle;\n",
       "    }\n",
       "\n",
       "    .dataframe tbody tr th {\n",
       "        vertical-align: top;\n",
       "    }\n",
       "\n",
       "    .dataframe thead th {\n",
       "        text-align: right;\n",
       "    }\n",
       "</style>\n",
       "<table border=\"1\" class=\"dataframe\">\n",
       "  <thead>\n",
       "    <tr style=\"text-align: right;\">\n",
       "      <th></th>\n",
       "      <th>gameId</th>\n",
       "      <th>participantId</th>\n",
       "      <th>position</th>\n",
       "      <th>position_prediction</th>\n",
       "      <th>truth</th>\n",
       "    </tr>\n",
       "  </thead>\n",
       "  <tbody>\n",
       "    <tr>\n",
       "      <th>29721</th>\n",
       "      <td>3906773310</td>\n",
       "      <td>2</td>\n",
       "      <td>MIDDLE_SOLO</td>\n",
       "      <td>TOP_SOLO</td>\n",
       "      <td>MIDDLE_SOLO</td>\n",
       "    </tr>\n",
       "    <tr>\n",
       "      <th>28815</th>\n",
       "      <td>3908502948</td>\n",
       "      <td>6</td>\n",
       "      <td>MIDDLE_SOLO</td>\n",
       "      <td>TOP_SOLO</td>\n",
       "      <td>MIDDLE_SOLO</td>\n",
       "    </tr>\n",
       "    <tr>\n",
       "      <th>51506</th>\n",
       "      <td>3903834705</td>\n",
       "      <td>2</td>\n",
       "      <td>TOP_SOLO</td>\n",
       "      <td>JUNGLE_NONE</td>\n",
       "      <td>TOP_SOLO</td>\n",
       "    </tr>\n",
       "    <tr>\n",
       "      <th>10502</th>\n",
       "      <td>3904691330</td>\n",
       "      <td>8</td>\n",
       "      <td>TOP_SOLO</td>\n",
       "      <td>MIDDLE_SOLO</td>\n",
       "      <td>MIDDLE_SOLO</td>\n",
       "    </tr>\n",
       "    <tr>\n",
       "      <th>20091</th>\n",
       "      <td>3905988984</td>\n",
       "      <td>2</td>\n",
       "      <td>BOTTOM_DUO_CARRY</td>\n",
       "      <td>BOTTOM_DUO_SUPPORT</td>\n",
       "      <td>BOTTOM_DUO_CARRY</td>\n",
       "    </tr>\n",
       "    <tr>\n",
       "      <th>9763</th>\n",
       "      <td>3906055368</td>\n",
       "      <td>9</td>\n",
       "      <td>MIDDLE_SOLO</td>\n",
       "      <td>TOP_SOLO</td>\n",
       "      <td>MIDDLE_SOLO</td>\n",
       "    </tr>\n",
       "    <tr>\n",
       "      <th>42375</th>\n",
       "      <td>3905147178</td>\n",
       "      <td>6</td>\n",
       "      <td>TOP_SOLO</td>\n",
       "      <td>JUNGLE_NONE</td>\n",
       "      <td>TOP_SOLO</td>\n",
       "    </tr>\n",
       "    <tr>\n",
       "      <th>22832</th>\n",
       "      <td>3906085185</td>\n",
       "      <td>3</td>\n",
       "      <td>MIDDLE_SOLO</td>\n",
       "      <td>JUNGLE_NONE</td>\n",
       "      <td>MIDDLE_SOLO</td>\n",
       "    </tr>\n",
       "    <tr>\n",
       "      <th>51001</th>\n",
       "      <td>3907362555</td>\n",
       "      <td>7</td>\n",
       "      <td>MIDDLE_SOLO</td>\n",
       "      <td>JUNGLE_NONE</td>\n",
       "      <td>MIDDLE_SOLO</td>\n",
       "    </tr>\n",
       "    <tr>\n",
       "      <th>55982</th>\n",
       "      <td>3904105855</td>\n",
       "      <td>8</td>\n",
       "      <td>TOP_SOLO</td>\n",
       "      <td>MIDDLE_SOLO</td>\n",
       "      <td>MIDDLE_SOLO</td>\n",
       "    </tr>\n",
       "    <tr>\n",
       "      <th>18934</th>\n",
       "      <td>3905161494</td>\n",
       "      <td>5</td>\n",
       "      <td>MIDDLE_SOLO</td>\n",
       "      <td>JUNGLE_NONE</td>\n",
       "      <td>MIDDLE_SOLO</td>\n",
       "    </tr>\n",
       "    <tr>\n",
       "      <th>50491</th>\n",
       "      <td>3906252868</td>\n",
       "      <td>2</td>\n",
       "      <td>MIDDLE_SOLO</td>\n",
       "      <td>TOP_SOLO</td>\n",
       "      <td>MIDDLE_SOLO</td>\n",
       "    </tr>\n",
       "    <tr>\n",
       "      <th>12706</th>\n",
       "      <td>3904281155</td>\n",
       "      <td>7</td>\n",
       "      <td>TOP_SOLO</td>\n",
       "      <td>MIDDLE_SOLO</td>\n",
       "      <td>MIDDLE_SOLO</td>\n",
       "    </tr>\n",
       "    <tr>\n",
       "      <th>23483</th>\n",
       "      <td>3907885853</td>\n",
       "      <td>9</td>\n",
       "      <td>TOP_SOLO</td>\n",
       "      <td>MIDDLE_SOLO</td>\n",
       "      <td>TOP_SOLO</td>\n",
       "    </tr>\n",
       "    <tr>\n",
       "      <th>52531</th>\n",
       "      <td>3906781300</td>\n",
       "      <td>2</td>\n",
       "      <td>MIDDLE_SOLO</td>\n",
       "      <td>TOP_SOLO</td>\n",
       "      <td>MIDDLE_SOLO</td>\n",
       "    </tr>\n",
       "    <tr>\n",
       "      <th>5765</th>\n",
       "      <td>3907804480</td>\n",
       "      <td>6</td>\n",
       "      <td>MIDDLE_SOLO</td>\n",
       "      <td>TOP_SOLO</td>\n",
       "      <td>TOP_SOLO</td>\n",
       "    </tr>\n",
       "    <tr>\n",
       "      <th>16152</th>\n",
       "      <td>3906016805</td>\n",
       "      <td>3</td>\n",
       "      <td>TOP_SOLO</td>\n",
       "      <td>MIDDLE_SOLO</td>\n",
       "      <td>MIDDLE_SOLO</td>\n",
       "    </tr>\n",
       "    <tr>\n",
       "      <th>39456</th>\n",
       "      <td>3905911983</td>\n",
       "      <td>2</td>\n",
       "      <td>TOP_SOLO</td>\n",
       "      <td>MIDDLE_SOLO</td>\n",
       "      <td>TOP_SOLO</td>\n",
       "    </tr>\n",
       "    <tr>\n",
       "      <th>58789</th>\n",
       "      <td>3905096892</td>\n",
       "      <td>10</td>\n",
       "      <td>MIDDLE_SOLO</td>\n",
       "      <td>TOP_SOLO</td>\n",
       "      <td>TOP_SOLO</td>\n",
       "    </tr>\n",
       "    <tr>\n",
       "      <th>43366</th>\n",
       "      <td>3905076115</td>\n",
       "      <td>7</td>\n",
       "      <td>MIDDLE_SOLO</td>\n",
       "      <td>TOP_SOLO</td>\n",
       "      <td>MIDDLE_SOLO</td>\n",
       "    </tr>\n",
       "    <tr>\n",
       "      <th>20711</th>\n",
       "      <td>3904642128</td>\n",
       "      <td>2</td>\n",
       "      <td>MIDDLE_SOLO</td>\n",
       "      <td>BOTTOM_DUO_SUPPORT</td>\n",
       "      <td>MIDDLE_SOLO</td>\n",
       "    </tr>\n",
       "    <tr>\n",
       "      <th>16724</th>\n",
       "      <td>3904005915</td>\n",
       "      <td>5</td>\n",
       "      <td>TOP_SOLO</td>\n",
       "      <td>MIDDLE_SOLO</td>\n",
       "      <td>MIDDLE_SOLO</td>\n",
       "    </tr>\n",
       "    <tr>\n",
       "      <th>33402</th>\n",
       "      <td>3903868851</td>\n",
       "      <td>3</td>\n",
       "      <td>TOP_SOLO</td>\n",
       "      <td>MIDDLE_SOLO</td>\n",
       "      <td>TOP_SOLO</td>\n",
       "    </tr>\n",
       "    <tr>\n",
       "      <th>37800</th>\n",
       "      <td>3908534585</td>\n",
       "      <td>1</td>\n",
       "      <td>TOP_SOLO</td>\n",
       "      <td>MIDDLE_SOLO</td>\n",
       "      <td>TOP_SOLO</td>\n",
       "    </tr>\n",
       "    <tr>\n",
       "      <th>37527</th>\n",
       "      <td>3905016517</td>\n",
       "      <td>8</td>\n",
       "      <td>BOTTOM_DUO_SUPPORT</td>\n",
       "      <td>BOTTOM_DUO_CARRY</td>\n",
       "      <td>BOTTOM_DUO_SUPPORT</td>\n",
       "    </tr>\n",
       "    <tr>\n",
       "      <th>8727</th>\n",
       "      <td>3905942103</td>\n",
       "      <td>3</td>\n",
       "      <td>MIDDLE_SOLO</td>\n",
       "      <td>TOP_SOLO</td>\n",
       "      <td>TOP_SOLO</td>\n",
       "    </tr>\n",
       "    <tr>\n",
       "      <th>5199</th>\n",
       "      <td>3907203251</td>\n",
       "      <td>5</td>\n",
       "      <td>BOTTOM_DUO_SUPPORT</td>\n",
       "      <td>BOTTOM_DUO_CARRY</td>\n",
       "      <td>BOTTOM_DUO_SUPPORT</td>\n",
       "    </tr>\n",
       "    <tr>\n",
       "      <th>61240</th>\n",
       "      <td>3905985379</td>\n",
       "      <td>1</td>\n",
       "      <td>MIDDLE_SOLO</td>\n",
       "      <td>TOP_SOLO</td>\n",
       "      <td>MIDDLE_SOLO</td>\n",
       "    </tr>\n",
       "    <tr>\n",
       "      <th>41281</th>\n",
       "      <td>3907202691</td>\n",
       "      <td>2</td>\n",
       "      <td>MIDDLE_SOLO</td>\n",
       "      <td>TOP_SOLO</td>\n",
       "      <td>TOP_SOLO</td>\n",
       "    </tr>\n",
       "    <tr>\n",
       "      <th>55869</th>\n",
       "      <td>3904538694</td>\n",
       "      <td>10</td>\n",
       "      <td>BOTTOM_DUO_SUPPORT</td>\n",
       "      <td>BOTTOM_DUO_CARRY</td>\n",
       "      <td>BOTTOM_DUO_SUPPORT</td>\n",
       "    </tr>\n",
       "    <tr>\n",
       "      <th>9273</th>\n",
       "      <td>3904163586</td>\n",
       "      <td>4</td>\n",
       "      <td>MIDDLE_SOLO</td>\n",
       "      <td>TOP_SOLO</td>\n",
       "      <td>MIDDLE_SOLO</td>\n",
       "    </tr>\n",
       "    <tr>\n",
       "      <th>13732</th>\n",
       "      <td>3906971421</td>\n",
       "      <td>8</td>\n",
       "      <td>BOTTOM_DUO_SUPPORT</td>\n",
       "      <td>BOTTOM_DUO_CARRY</td>\n",
       "      <td>BOTTOM_DUO_SUPPORT</td>\n",
       "    </tr>\n",
       "    <tr>\n",
       "      <th>45762</th>\n",
       "      <td>3908571724</td>\n",
       "      <td>3</td>\n",
       "      <td>MIDDLE_SOLO</td>\n",
       "      <td>TOP_SOLO</td>\n",
       "      <td>TOP_SOLO</td>\n",
       "    </tr>\n",
       "    <tr>\n",
       "      <th>58323</th>\n",
       "      <td>3905125906</td>\n",
       "      <td>4</td>\n",
       "      <td>TOP_SOLO</td>\n",
       "      <td>MIDDLE_SOLO</td>\n",
       "      <td>TOP_SOLO</td>\n",
       "    </tr>\n",
       "    <tr>\n",
       "      <th>39853</th>\n",
       "      <td>3903292272</td>\n",
       "      <td>4</td>\n",
       "      <td>MIDDLE_SOLO</td>\n",
       "      <td>TOP_SOLO</td>\n",
       "      <td>TOP_SOLO</td>\n",
       "    </tr>\n",
       "    <tr>\n",
       "      <th>33473</th>\n",
       "      <td>3907117884</td>\n",
       "      <td>9</td>\n",
       "      <td>TOP_SOLO</td>\n",
       "      <td>MIDDLE_SOLO</td>\n",
       "      <td>MIDDLE_SOLO</td>\n",
       "    </tr>\n",
       "    <tr>\n",
       "      <th>4723</th>\n",
       "      <td>3904387369</td>\n",
       "      <td>4</td>\n",
       "      <td>TOP_SOLO</td>\n",
       "      <td>MIDDLE_SOLO</td>\n",
       "      <td>TOP_SOLO</td>\n",
       "    </tr>\n",
       "    <tr>\n",
       "      <th>66532</th>\n",
       "      <td>3906780358</td>\n",
       "      <td>8</td>\n",
       "      <td>JUNGLE_NONE</td>\n",
       "      <td>TOP_SOLO</td>\n",
       "      <td>JUNGLE_NONE</td>\n",
       "    </tr>\n",
       "    <tr>\n",
       "      <th>19157</th>\n",
       "      <td>3904449294</td>\n",
       "      <td>3</td>\n",
       "      <td>MIDDLE_SOLO</td>\n",
       "      <td>TOP_SOLO</td>\n",
       "      <td>MIDDLE_SOLO</td>\n",
       "    </tr>\n",
       "    <tr>\n",
       "      <th>28049</th>\n",
       "      <td>3908377926</td>\n",
       "      <td>5</td>\n",
       "      <td>MIDDLE_SOLO</td>\n",
       "      <td>JUNGLE_NONE</td>\n",
       "      <td>MIDDLE_SOLO</td>\n",
       "    </tr>\n",
       "    <tr>\n",
       "      <th>64694</th>\n",
       "      <td>3905162655</td>\n",
       "      <td>5</td>\n",
       "      <td>TOP_SOLO</td>\n",
       "      <td>MIDDLE_SOLO</td>\n",
       "      <td>MIDDLE_SOLO</td>\n",
       "    </tr>\n",
       "    <tr>\n",
       "      <th>61827</th>\n",
       "      <td>3907073240</td>\n",
       "      <td>8</td>\n",
       "      <td>TOP_SOLO</td>\n",
       "      <td>JUNGLE_NONE</td>\n",
       "      <td>TOP_SOLO</td>\n",
       "    </tr>\n",
       "  </tbody>\n",
       "</table>\n",
       "</div>"
      ],
      "text/plain": [
       "           gameId  participantId            position position_prediction  \\\n",
       "29721  3906773310  2              MIDDLE_SOLO         TOP_SOLO             \n",
       "28815  3908502948  6              MIDDLE_SOLO         TOP_SOLO             \n",
       "51506  3903834705  2              TOP_SOLO            JUNGLE_NONE          \n",
       "10502  3904691330  8              TOP_SOLO            MIDDLE_SOLO          \n",
       "20091  3905988984  2              BOTTOM_DUO_CARRY    BOTTOM_DUO_SUPPORT   \n",
       "9763   3906055368  9              MIDDLE_SOLO         TOP_SOLO             \n",
       "42375  3905147178  6              TOP_SOLO            JUNGLE_NONE          \n",
       "22832  3906085185  3              MIDDLE_SOLO         JUNGLE_NONE          \n",
       "51001  3907362555  7              MIDDLE_SOLO         JUNGLE_NONE          \n",
       "55982  3904105855  8              TOP_SOLO            MIDDLE_SOLO          \n",
       "18934  3905161494  5              MIDDLE_SOLO         JUNGLE_NONE          \n",
       "50491  3906252868  2              MIDDLE_SOLO         TOP_SOLO             \n",
       "12706  3904281155  7              TOP_SOLO            MIDDLE_SOLO          \n",
       "23483  3907885853  9              TOP_SOLO            MIDDLE_SOLO          \n",
       "52531  3906781300  2              MIDDLE_SOLO         TOP_SOLO             \n",
       "5765   3907804480  6              MIDDLE_SOLO         TOP_SOLO             \n",
       "16152  3906016805  3              TOP_SOLO            MIDDLE_SOLO          \n",
       "39456  3905911983  2              TOP_SOLO            MIDDLE_SOLO          \n",
       "58789  3905096892  10             MIDDLE_SOLO         TOP_SOLO             \n",
       "43366  3905076115  7              MIDDLE_SOLO         TOP_SOLO             \n",
       "20711  3904642128  2              MIDDLE_SOLO         BOTTOM_DUO_SUPPORT   \n",
       "16724  3904005915  5              TOP_SOLO            MIDDLE_SOLO          \n",
       "33402  3903868851  3              TOP_SOLO            MIDDLE_SOLO          \n",
       "37800  3908534585  1              TOP_SOLO            MIDDLE_SOLO          \n",
       "37527  3905016517  8              BOTTOM_DUO_SUPPORT  BOTTOM_DUO_CARRY     \n",
       "8727   3905942103  3              MIDDLE_SOLO         TOP_SOLO             \n",
       "5199   3907203251  5              BOTTOM_DUO_SUPPORT  BOTTOM_DUO_CARRY     \n",
       "61240  3905985379  1              MIDDLE_SOLO         TOP_SOLO             \n",
       "41281  3907202691  2              MIDDLE_SOLO         TOP_SOLO             \n",
       "55869  3904538694  10             BOTTOM_DUO_SUPPORT  BOTTOM_DUO_CARRY     \n",
       "9273   3904163586  4              MIDDLE_SOLO         TOP_SOLO             \n",
       "13732  3906971421  8              BOTTOM_DUO_SUPPORT  BOTTOM_DUO_CARRY     \n",
       "45762  3908571724  3              MIDDLE_SOLO         TOP_SOLO             \n",
       "58323  3905125906  4              TOP_SOLO            MIDDLE_SOLO          \n",
       "39853  3903292272  4              MIDDLE_SOLO         TOP_SOLO             \n",
       "33473  3907117884  9              TOP_SOLO            MIDDLE_SOLO          \n",
       "4723   3904387369  4              TOP_SOLO            MIDDLE_SOLO          \n",
       "66532  3906780358  8              JUNGLE_NONE         TOP_SOLO             \n",
       "19157  3904449294  3              MIDDLE_SOLO         TOP_SOLO             \n",
       "28049  3908377926  5              MIDDLE_SOLO         JUNGLE_NONE          \n",
       "64694  3905162655  5              TOP_SOLO            MIDDLE_SOLO          \n",
       "61827  3907073240  8              TOP_SOLO            JUNGLE_NONE          \n",
       "\n",
       "                    truth  \n",
       "29721  MIDDLE_SOLO         \n",
       "28815  MIDDLE_SOLO         \n",
       "51506  TOP_SOLO            \n",
       "10502  MIDDLE_SOLO         \n",
       "20091  BOTTOM_DUO_CARRY    \n",
       "9763   MIDDLE_SOLO         \n",
       "42375  TOP_SOLO            \n",
       "22832  MIDDLE_SOLO         \n",
       "51001  MIDDLE_SOLO         \n",
       "55982  MIDDLE_SOLO         \n",
       "18934  MIDDLE_SOLO         \n",
       "50491  MIDDLE_SOLO         \n",
       "12706  MIDDLE_SOLO         \n",
       "23483  TOP_SOLO            \n",
       "52531  MIDDLE_SOLO         \n",
       "5765   TOP_SOLO            \n",
       "16152  MIDDLE_SOLO         \n",
       "39456  TOP_SOLO            \n",
       "58789  TOP_SOLO            \n",
       "43366  MIDDLE_SOLO         \n",
       "20711  MIDDLE_SOLO         \n",
       "16724  MIDDLE_SOLO         \n",
       "33402  TOP_SOLO            \n",
       "37800  TOP_SOLO            \n",
       "37527  BOTTOM_DUO_SUPPORT  \n",
       "8727   TOP_SOLO            \n",
       "5199   BOTTOM_DUO_SUPPORT  \n",
       "61240  MIDDLE_SOLO         \n",
       "41281  TOP_SOLO            \n",
       "55869  BOTTOM_DUO_SUPPORT  \n",
       "9273   MIDDLE_SOLO         \n",
       "13732  BOTTOM_DUO_SUPPORT  \n",
       "45762  TOP_SOLO            \n",
       "58323  TOP_SOLO            \n",
       "39853  TOP_SOLO            \n",
       "33473  MIDDLE_SOLO         \n",
       "4723   TOP_SOLO            \n",
       "66532  JUNGLE_NONE         \n",
       "19157  MIDDLE_SOLO         \n",
       "28049  MIDDLE_SOLO         \n",
       "64694  MIDDLE_SOLO         \n",
       "61827  TOP_SOLO            "
      ]
     },
     "execution_count": 160,
     "metadata": {},
     "output_type": "execute_result"
    }
   ],
   "source": [
    "dfTest[\"truth\"] = \"None\"\n",
    "dfTest.loc[29721,\"truth\"] = \"MIDDLE_SOLO\"\n",
    "dfTest.loc[28815,\"truth\"] = \"MIDDLE_SOLO\"\n",
    "dfTest.loc[51506,\"truth\"] = \"TOP_SOLO\"\n",
    "dfTest.loc[10502,\"truth\"] = \"MIDDLE_SOLO\"\n",
    "dfTest.loc[20091,\"truth\"] = \"BOTTOM_DUO_CARRY\"\n",
    "dfTest.loc[9763,\"truth\"] = \"MIDDLE_SOLO\"\n",
    "dfTest.loc[42375,\"truth\"] = \"TOP_SOLO\"\n",
    "dfTest.loc[22832,\"truth\"] = \"MIDDLE_SOLO\"\n",
    "dfTest.loc[51001,\"truth\"] = \"MIDDLE_SOLO\"\n",
    "dfTest.loc[55982,\"truth\"] = \"MIDDLE_SOLO\"\n",
    "dfTest.loc[18934,\"truth\"] = \"MIDDLE_SOLO\"\n",
    "dfTest.loc[50491,\"truth\"] = \"MIDDLE_SOLO\"\n",
    "dfTest.loc[12706,\"truth\"] = \"MIDDLE_SOLO\"\n",
    "dfTest.loc[23483,\"truth\"] = \"TOP_SOLO\"\n",
    "dfTest.loc[52531,\"truth\"] = \"MIDDLE_SOLO\"\n",
    "dfTest.loc[5765,\"truth\"] = \"TOP_SOLO\"\n",
    "dfTest.loc[16152,\"truth\"] = \"MIDDLE_SOLO\"\n",
    "dfTest.loc[39456,\"truth\"] = \"TOP_SOLO\"\n",
    "dfTest.loc[58789,\"truth\"] = \"TOP_SOLO\"\n",
    "dfTest.loc[43366,\"truth\"] = \"MIDDLE_SOLO\"\n",
    "dfTest.loc[20711,\"truth\"] = \"MIDDLE_SOLO\"\n",
    "dfTest.loc[16724,\"truth\"] = \"MIDDLE_SOLO\"\n",
    "dfTest.loc[33402,\"truth\"] = \"TOP_SOLO\"\n",
    "dfTest.loc[37800,\"truth\"] = \"TOP_SOLO\"\n",
    "dfTest.loc[37527,\"truth\"] = \"BOTTOM_DUO_SUPPORT\"\n",
    "dfTest.loc[8727,\"truth\"] = \"TOP_SOLO\"\n",
    "dfTest.loc[5199,\"truth\"] = \"BOTTOM_DUO_SUPPORT\"\n",
    "dfTest.loc[61240,\"truth\"] = \"MIDDLE_SOLO\"\n",
    "dfTest.loc[41281,\"truth\"] = \"TOP_SOLO\"\n",
    "dfTest.loc[55869,\"truth\"] = \"BOTTOM_DUO_SUPPORT\"\n",
    "dfTest.loc[9273,\"truth\"] = \"MIDDLE_SOLO\"\n",
    "dfTest.loc[13732,\"truth\"] = \"BOTTOM_DUO_SUPPORT\"\n",
    "dfTest.loc[45762,\"truth\"] = \"TOP_SOLO\"\n",
    "dfTest.loc[58323,\"truth\"] = \"TOP_SOLO\"\n",
    "dfTest.loc[39853,\"truth\"] = \"TOP_SOLO\"\n",
    "dfTest.loc[33473,\"truth\"] = \"MIDDLE_SOLO\"\n",
    "dfTest.loc[4723,\"truth\"] = \"TOP_SOLO\"\n",
    "dfTest.loc[66532,\"truth\"] = \"JUNGLE_NONE\"\n",
    "dfTest.loc[19157,\"truth\"] = \"MIDDLE_SOLO\"\n",
    "dfTest.loc[28049,\"truth\"] = \"MIDDLE_SOLO\"\n",
    "dfTest.loc[64694,\"truth\"] = \"MIDDLE_SOLO\"\n",
    "dfTest.loc[61827,\"truth\"] = \"TOP_SOLO\"\n",
    "\n",
    "dfTest"
   ]
  },
  {
   "cell_type": "markdown",
   "metadata": {},
   "source": [
    "Notable exception : Mordekaiser with support item in botlane as AD Carry, Lulu mid with ardent censer (support item) and roaming considered as support, lots of midlaner considered as jungler due to lot of roaming.\n",
    "\n",
    "Possible solutions : adding summoner spells (jungler always have smite), adding income stats (supports usually don't farm a lot, hence low income)"
   ]
  },
  {
   "cell_type": "markdown",
   "metadata": {},
   "source": [
    "The case 33402 is quite intersting also. The path in the model is quick and only considers that a player mostly top but having the position 2 at midlane is a midlaner. Investigating : "
   ]
  },
  {
   "cell_type": "code",
   "execution_count": 161,
   "metadata": {},
   "outputs": [
    {
     "data": {
      "text/plain": [
       "{'gameId': 3903868851,\n",
       " 'has-item-mostlyUsed-BOTTOM_DUO_CARRY': 0,\n",
       " 'has-item-mostlyUsed-BOTTOM_DUO_SUPPORT': 0,\n",
       " 'has-item-mostlyUsed-JUNGLE_NONE': 0,\n",
       " 'has-item-mostlyUsed-MIDDLE_SOLO': 0,\n",
       " 'has-item-mostlyUsed-TOP_SOLO': 1,\n",
       " 'has-item-overUsed-BOTTOM_DUO_CARRY': 0,\n",
       " 'has-item-overUsed-BOTTOM_DUO_SUPPORT': 0,\n",
       " 'has-item-overUsed-JUNGLE_NONE': 0,\n",
       " 'has-item-overUsed-MIDDLE_SOLO': 0,\n",
       " 'has-item-overUsed-TOP_SOLO': 0,\n",
       " 'has-item-underUsed-BOTTOM_DUO_CARRY': 1,\n",
       " 'has-item-underUsed-BOTTOM_DUO_SUPPORT': 1,\n",
       " 'has-item-underUsed-JUNGLE_NONE': 1,\n",
       " 'has-item-underUsed-MIDDLE_SOLO': 1,\n",
       " 'has-item-underUsed-TOP_SOLO': 0,\n",
       " 'most-frequent-bot': 0,\n",
       " 'most-frequent-jungle': 0,\n",
       " 'most-frequent-mid': 0,\n",
       " 'most-frequent-top': 1,\n",
       " 'participantId': 3,\n",
       " 'position': 'TOP_SOLO',\n",
       " 'position-bot-0': 0,\n",
       " 'position-bot-1': 0,\n",
       " 'position-bot-2': 0,\n",
       " 'position-bot-3': 0,\n",
       " 'position-bot-4': 0,\n",
       " 'position-bot-5': 0,\n",
       " 'position-bot-6': 0,\n",
       " 'position-bot-7': 0,\n",
       " 'position-bot-8': 0,\n",
       " 'position-bot-9': 0,\n",
       " 'position-jungle-0': 1,\n",
       " 'position-jungle-1': 0,\n",
       " 'position-jungle-2': 0,\n",
       " 'position-jungle-3': 0,\n",
       " 'position-jungle-4': 0,\n",
       " 'position-jungle-5': 0,\n",
       " 'position-jungle-6': 0,\n",
       " 'position-jungle-7': 0,\n",
       " 'position-jungle-8': 0,\n",
       " 'position-jungle-9': 0,\n",
       " 'position-mid-0': 0,\n",
       " 'position-mid-1': 0,\n",
       " 'position-mid-2': 1,\n",
       " 'position-mid-3': 0,\n",
       " 'position-mid-4': 0,\n",
       " 'position-mid-5': 0,\n",
       " 'position-mid-6': 0,\n",
       " 'position-mid-7': 0,\n",
       " 'position-mid-8': 0,\n",
       " 'position-mid-9': 0,\n",
       " 'position-top-0': 0,\n",
       " 'position-top-1': 1,\n",
       " 'position-top-2': 0,\n",
       " 'position-top-3': 1,\n",
       " 'position-top-4': 1,\n",
       " 'position-top-5': 1,\n",
       " 'position-top-6': 1,\n",
       " 'position-top-7': 1,\n",
       " 'position-top-8': 1,\n",
       " 'position-top-9': 1}"
      ]
     },
     "execution_count": 161,
     "metadata": {},
     "output_type": "execute_result"
    }
   ],
   "source": [
    "df[((df[\"gameId\"] == 3903868851) & (df[\"participantId\"] == 3))].iloc[0].to_dict()"
   ]
  },
  {
   "cell_type": "code",
   "execution_count": 157,
   "metadata": {},
   "outputs": [
    {
     "data": {
      "text/html": [
       "<div>\n",
       "<style scoped>\n",
       "    .dataframe tbody tr th:only-of-type {\n",
       "        vertical-align: middle;\n",
       "    }\n",
       "\n",
       "    .dataframe tbody tr th {\n",
       "        vertical-align: top;\n",
       "    }\n",
       "\n",
       "    .dataframe thead th {\n",
       "        text-align: right;\n",
       "    }\n",
       "</style>\n",
       "<table border=\"1\" class=\"dataframe\">\n",
       "  <thead>\n",
       "    <tr style=\"text-align: right;\">\n",
       "      <th></th>\n",
       "      <th>gameId</th>\n",
       "      <th>participantId</th>\n",
       "      <th>position</th>\n",
       "    </tr>\n",
       "  </thead>\n",
       "  <tbody>\n",
       "    <tr>\n",
       "      <th>3955</th>\n",
       "      <td>3905473192</td>\n",
       "      <td>6</td>\n",
       "      <td>MIDDLE_SOLO</td>\n",
       "    </tr>\n",
       "    <tr>\n",
       "      <th>4585</th>\n",
       "      <td>3908342739</td>\n",
       "      <td>6</td>\n",
       "      <td>MIDDLE_SOLO</td>\n",
       "    </tr>\n",
       "    <tr>\n",
       "      <th>5682</th>\n",
       "      <td>3903535288</td>\n",
       "      <td>8</td>\n",
       "      <td>MIDDLE_SOLO</td>\n",
       "    </tr>\n",
       "    <tr>\n",
       "      <th>15957</th>\n",
       "      <td>3904274379</td>\n",
       "      <td>8</td>\n",
       "      <td>MIDDLE_SOLO</td>\n",
       "    </tr>\n",
       "    <tr>\n",
       "      <th>25927</th>\n",
       "      <td>3903906376</td>\n",
       "      <td>8</td>\n",
       "      <td>MIDDLE_SOLO</td>\n",
       "    </tr>\n",
       "    <tr>\n",
       "      <th>33402</th>\n",
       "      <td>3903868851</td>\n",
       "      <td>3</td>\n",
       "      <td>TOP_SOLO</td>\n",
       "    </tr>\n",
       "    <tr>\n",
       "      <th>33615</th>\n",
       "      <td>3904561713</td>\n",
       "      <td>6</td>\n",
       "      <td>MIDDLE_SOLO</td>\n",
       "    </tr>\n",
       "    <tr>\n",
       "      <th>37566</th>\n",
       "      <td>3904456963</td>\n",
       "      <td>7</td>\n",
       "      <td>MIDDLE_SOLO</td>\n",
       "    </tr>\n",
       "    <tr>\n",
       "      <th>41021</th>\n",
       "      <td>3904870841</td>\n",
       "      <td>7</td>\n",
       "      <td>MIDDLE_SOLO</td>\n",
       "    </tr>\n",
       "    <tr>\n",
       "      <th>62005</th>\n",
       "      <td>3906654151</td>\n",
       "      <td>1</td>\n",
       "      <td>MIDDLE_SOLO</td>\n",
       "    </tr>\n",
       "    <tr>\n",
       "      <th>62011</th>\n",
       "      <td>3906654151</td>\n",
       "      <td>7</td>\n",
       "      <td>MIDDLE_SOLO</td>\n",
       "    </tr>\n",
       "  </tbody>\n",
       "</table>\n",
       "</div>"
      ],
      "text/plain": [
       "           gameId  participantId     position\n",
       "3955   3905473192  6              MIDDLE_SOLO\n",
       "4585   3908342739  6              MIDDLE_SOLO\n",
       "5682   3903535288  8              MIDDLE_SOLO\n",
       "15957  3904274379  8              MIDDLE_SOLO\n",
       "25927  3903906376  8              MIDDLE_SOLO\n",
       "33402  3903868851  3              TOP_SOLO   \n",
       "33615  3904561713  6              MIDDLE_SOLO\n",
       "37566  3904456963  7              MIDDLE_SOLO\n",
       "41021  3904870841  7              MIDDLE_SOLO\n",
       "62005  3906654151  1              MIDDLE_SOLO\n",
       "62011  3906654151  7              MIDDLE_SOLO"
      ]
     },
     "execution_count": 157,
     "metadata": {},
     "output_type": "execute_result"
    }
   ],
   "source": [
    "df[((df[\"most-frequent-top\"] == 1) & (df[\"position-mid-2\"] == 1))][\"gameId\",\"participantId\",\"position\"]"
   ]
  },
  {
   "cell_type": "markdown",
   "metadata": {},
   "source": [
    "Case 3955 : Diana midlane, swap to top at 7. Case 4585 : Riven midlane, swap to top at 5. Case 5682 : Urgot midlane, swap top at 5. Case 15957 : Akali midlane, swap top at 5. Case 25927 : Ryze toplane, ganked? midlane (hence position midlane 2) -> match data misclassification. Case 33615 : Vladimir midlane, swap toplane at 5, went back midlane at 8 and get back toplane after. Case 37566 : Yasuo midlane, swap to top at 5. Case 41021 : Lissandra midlane, swap to top at 5. Case 62005 : Viktor midlane swap to top at 6. Case 62011 : Zed midlane, swap to top at 6 (same game, followed Viktor)."
   ]
  },
  {
   "cell_type": "markdown",
   "metadata": {},
   "source": [
    "Here the culprit is the swaplane. It seems that the match data classifier only take position before 5 minutes to make its decision."
   ]
  },
  {
   "cell_type": "markdown",
   "metadata": {},
   "source": [
    "To sum up the enhancement to do on the feature selection : \n",
    " * modify the position features\n",
    " * add summoner spells\n",
    " * add income stats such as CS or gold per minute. Relate number of monsters killed and minions killed could also help with jungler misclassification.\n",
    "There is also a decision to take on how to handle swaplane."
   ]
  },
  {
   "cell_type": "markdown",
   "metadata": {},
   "source": [
    "## Improving feature selection"
   ]
  },
  {
   "cell_type": "markdown",
   "metadata": {},
   "source": [
    "As seen before, using simple posititions may lead to error. Instead, we will now use the lane presence frequencies."
   ]
  },
  {
   "cell_type": "code",
   "execution_count": 164,
   "metadata": {},
   "outputs": [],
   "source": [
    "def getLaneFrequencies(participantsPositions):\n",
    "    laneFrequencies = {}\n",
    "    for participant in participantsPositions:\n",
    "        laneFrequency = {\"mid\":0,\"top\":0,\"bot\":0,\"jungle\":0}\n",
    "        \n",
    "        for lane in participantsPositions[participant]:\n",
    "            if not lane == None:\n",
    "                laneFrequency[lane] += 1\n",
    "        \n",
    "        laneFrequencies[participant] = laneFrequency\n",
    "    return laneFrequencies"
   ]
  },
  {
   "cell_type": "code",
   "execution_count": 165,
   "metadata": {},
   "outputs": [
    {
     "data": {
      "text/plain": [
       "{1: {'mid': 6, 'top': 0, 'bot': 0, 'jungle': 3},\n",
       " 2: {'mid': 0, 'top': 0, 'bot': 9, 'jungle': 1},\n",
       " 3: {'mid': 0, 'top': 0, 'bot': 9, 'jungle': 1},\n",
       " 4: {'mid': 0, 'top': 7, 'bot': 0, 'jungle': 3},\n",
       " 5: {'mid': 0, 'top': 0, 'bot': 2, 'jungle': 8},\n",
       " 6: {'mid': 4, 'top': 0, 'bot': 0, 'jungle': 4},\n",
       " 7: {'mid': 0, 'top': 8, 'bot': 0, 'jungle': 2},\n",
       " 8: {'mid': 0, 'top': 0, 'bot': 9, 'jungle': 1},\n",
       " 9: {'mid': 1, 'top': 0, 'bot': 1, 'jungle': 8},\n",
       " 10: {'mid': 0, 'top': 0, 'bot': 9, 'jungle': 1}}"
      ]
     },
     "execution_count": 165,
     "metadata": {},
     "output_type": "execute_result"
    }
   ],
   "source": [
    "getLaneFrequencies(getPositions(g[\"timeline\"]))"
   ]
  },
  {
   "cell_type": "markdown",
   "metadata": {},
   "source": [
    "For the income stats, we will rely on the stats at 10 minutes, which should give a reliable overview for the early game."
   ]
  },
  {
   "cell_type": "code",
   "execution_count": 168,
   "metadata": {},
   "outputs": [],
   "source": [
    "def getStatsAt10(timeline):\n",
    "    participantFrame = timeline['frames'][10]['participantFrames']\n",
    "    \n",
    "    p = {}\n",
    "    for k in participantFrame:\n",
    "        row = {\n",
    "            \"minionsKilled\":participantFrame[k][\"minionsKilled\"],\n",
    "            \"jungleMinionsKilled\":participantFrame[k][\"jungleMinionsKilled\"],\n",
    "            \"jungleMinionRatio\":participantFrame[k][\"jungleMinionsKilled\"]/(participantFrame[k][\"minionsKilled\"]+participantFrame[k][\"jungleMinionsKilled\"]) if participantFrame[k][\"minionsKilled\"] > 0 else 0\n",
    "        }\n",
    "        p[k] = row\n",
    "    return p"
   ]
  },
  {
   "cell_type": "code",
   "execution_count": 169,
   "metadata": {},
   "outputs": [
    {
     "data": {
      "text/plain": [
       "{'1': {'minionsKilled': 80,\n",
       "  'jungleMinionsKilled': 0,\n",
       "  'jungleMinionRatio': 0.0},\n",
       " '2': {'minionsKilled': 10,\n",
       "  'jungleMinionsKilled': 0,\n",
       "  'jungleMinionRatio': 0.0},\n",
       " '3': {'minionsKilled': 64,\n",
       "  'jungleMinionsKilled': 0,\n",
       "  'jungleMinionRatio': 0.0},\n",
       " '4': {'minionsKilled': 59,\n",
       "  'jungleMinionsKilled': 0,\n",
       "  'jungleMinionRatio': 0.0},\n",
       " '5': {'minionsKilled': 2,\n",
       "  'jungleMinionsKilled': 56,\n",
       "  'jungleMinionRatio': 0.9655172413793104},\n",
       " '6': {'minionsKilled': 76,\n",
       "  'jungleMinionsKilled': 4,\n",
       "  'jungleMinionRatio': 0.05},\n",
       " '7': {'minionsKilled': 68,\n",
       "  'jungleMinionsKilled': 0,\n",
       "  'jungleMinionRatio': 0.0},\n",
       " '8': {'minionsKilled': 72,\n",
       "  'jungleMinionsKilled': 0,\n",
       "  'jungleMinionRatio': 0.0},\n",
       " '9': {'minionsKilled': 8,\n",
       "  'jungleMinionsKilled': 44,\n",
       "  'jungleMinionRatio': 0.8461538461538461},\n",
       " '10': {'minionsKilled': 4,\n",
       "  'jungleMinionsKilled': 0,\n",
       "  'jungleMinionRatio': 0.0}}"
      ]
     },
     "execution_count": 169,
     "metadata": {},
     "output_type": "execute_result"
    }
   ],
   "source": [
    "getStatsAt10(g[\"timeline\"])"
   ]
  },
  {
   "cell_type": "markdown",
   "metadata": {},
   "source": [
    "Last step before recreating a dataset, we have to initialize the one-hot-encode for the summoner spells."
   ]
  },
  {
   "cell_type": "code",
   "execution_count": 174,
   "metadata": {},
   "outputs": [
    {
     "data": {
      "text/plain": [
       "{'spell-21': 0,\n",
       " 'spell-1': 0,\n",
       " 'spell-14': 0,\n",
       " 'spell-3': 0,\n",
       " 'spell-4': 0,\n",
       " 'spell-6': 0,\n",
       " 'spell-7': 0,\n",
       " 'spell-11': 0,\n",
       " 'spell-12': 0}"
      ]
     },
     "execution_count": 174,
     "metadata": {},
     "output_type": "execute_result"
    }
   ],
   "source": [
    "\n",
    "r = requests.get('http://ddragon.leagueoflegends.com/cdn/9.2.1/data/en_US/summoner.json')\n",
    "dataSummoner = r.json()\n",
    "spells = {}\n",
    "for r in dataSummoner[\"data\"]:\n",
    "    if \"CLASSIC\" in dataSummoner[\"data\"][r][\"modes\"]:\n",
    "        spells[\"spell-\"+dataSummoner[\"data\"][r][\"key\"]] = 0\n",
    "spells"
   ]
  },
  {
   "cell_type": "markdown",
   "metadata": {},
   "source": [
    "## Retraining"
   ]
  },
  {
   "cell_type": "markdown",
   "metadata": {},
   "source": [
    "With these new features, we can recreate a dataset."
   ]
  },
  {
   "cell_type": "code",
   "execution_count": 237,
   "metadata": {},
   "outputs": [],
   "source": [
    "participants = []\n",
    "\n",
    "#Find all games longer than 15 minutes and on the map Summoner's Rift\n",
    "for g in gamesTable.find({ \"gameDuration\": { \"$gt\": 900 }, \"mapId\":11 }).limit(10000):\n",
    "    \n",
    "    #Get teams that have a perfect metagame composition\n",
    "    positionsByTeam = {100:[],200:[]}\n",
    "    for p in g['participants']:\n",
    "        positionsByTeam[p['teamId']].append(p['timeline']['lane']+\"_\"+p['timeline']['role'])\n",
    "    teamOK = {}\n",
    "    teamOK[100] = role_composition == set(positionsByTeam[100])\n",
    "    teamOK[200] = role_composition == set(positionsByTeam[200])\n",
    "    \n",
    "    #Get the players positions form the timeline\n",
    "    playersPositions = getPositions(g['timeline'])\n",
    "    \n",
    "    playerMostFrequentLane = getMostFrequentLane(playersPositions)\n",
    "    playerLaneFrequencies = getLaneFrequencies(playersPositions)\n",
    "    \n",
    "    playerStats = getStatsAt10(g[\"timeline\"])\n",
    "    \n",
    "    for p in g['participants']:\n",
    "        \n",
    "        #If the participant is not in a perfect metagame team, ignore it\n",
    "        if not teamOK[p['teamId']]:\n",
    "            continue\n",
    "            \n",
    "            \n",
    "        participant = {}\n",
    "        \n",
    "        participantId = p[\"participantId\"]\n",
    "        \n",
    "        lanes = [\"jungle\",\"top\",\"mid\",\"bot\"]\n",
    "        \n",
    "        #one hot encode positions\n",
    "        for lane in lanes:\n",
    "            participant['most-frequent-'+lane] = 0\n",
    "        \n",
    "        participant['most-frequent-'+ playerMostFrequentLane[participantId]] = 1\n",
    "        \n",
    "        #Lane frequency\n",
    "        participant = {**participant, **{\"lane-frequency-\"+k:v for k,v in playerLaneFrequencies[participantId].items()} }\n",
    "        \n",
    "                \n",
    "        #Init items lists \n",
    "        for role in role_composition:\n",
    "            participant[\"has-item-overUsed-\"+role] = 0\n",
    "            participant[\"has-item-mostlyUsed-\"+role] = 0\n",
    "            participant[\"has-item-underUsed-\"+role] = 0\n",
    "        \n",
    "        #Get the item ID for each of the 7 slots and check if they are in one of the three items lists\n",
    "        for i in range(0,7):\n",
    "            \n",
    "            #Check if there is an item for the slot\n",
    "            if p['stats']['item'+str(i)] > 0:\n",
    "                for role in role_composition:\n",
    "\n",
    "                    if str(p['stats']['item'+str(i)]) in overUsedItems[role]:\n",
    "                        participant[\"has-item-overUsed-\"+role] = 1\n",
    "\n",
    "                    if str(p['stats']['item'+str(i)]) in mostlyUsedItems[role]:\n",
    "                        participant[\"has-item-mostlyUsed-\"+role] = 1\n",
    "\n",
    "                    if str(p['stats']['item'+str(i)]) in underUsedItems[role]:\n",
    "                        participant[\"has-item-underUsed-\"+role] = 1\n",
    "        \n",
    "        \n",
    "        #Summoner spells\n",
    "        participant = {**participant, **spells}\n",
    "        participant[\"spell-\"+str(p[\"spell1Id\"])] = 1\n",
    "        participant[\"spell-\"+str(p[\"spell2Id\"])] = 1\n",
    "        \n",
    "        #Player stats\n",
    "        participant = {**participant, **playerStats[str(participantId)]}\n",
    "                        \n",
    "        \n",
    "        #Player position, what we are looking for\n",
    "        participant['position'] = p['timeline']['lane']+\"_\"+p['timeline']['role']\n",
    "        \n",
    "        #game identification features\n",
    "        participant[\"participantId\"] = participantId\n",
    "        participant[\"gameId\"] = g[\"gameId\"]\n",
    "        \n",
    "        participants.append(participant)"
   ]
  },
  {
   "cell_type": "code",
   "execution_count": 384,
   "metadata": {},
   "outputs": [],
   "source": [
    "df = pd.DataFrame(participants)\n",
    "df.to_csv(\"dataset_participants2.csv\", index=False)"
   ]
  },
  {
   "cell_type": "code",
   "execution_count": 291,
   "metadata": {},
   "outputs": [
    {
     "name": "stdout",
     "output_type": "stream",
     "text": [
      "[0.9954954954954955, 0.9950450450450451, 0.995945945945946, 0.9963963963963964, 0.9965465465465465, 0.9962462462462462, 0.9956456456456456, 0.9957957957957958, 0.995945945945946, 0.9956456456456456]\n"
     ]
    },
    {
     "data": {
      "text/plain": [
       "0.9958708708708709"
      ]
     },
     "execution_count": 291,
     "metadata": {},
     "output_type": "execute_result"
    }
   ],
   "source": [
    "target = df[\"position\"]\n",
    "data = df.drop([\"position\",\"participantId\",\"gameId\"], axis=1)\n",
    "\n",
    "c2 = DecisionTreeClassifier(criterion=\"gini\", min_samples_split=6)\n",
    "\n",
    "accs = []\n",
    "\n",
    "for train_index, test_index in shuffle_split.split(data,target):\n",
    "    c2.fit(data.iloc[train_index], target.iloc[train_index])\n",
    "    accs.append(accuracy_score(target[test_index], c2.predict(data.iloc[test_index])))\n",
    "\n",
    "print(accs)\n",
    "sum(accs) / len(accs)"
   ]
  },
  {
   "cell_type": "code",
   "execution_count": 286,
   "metadata": {},
   "outputs": [
    {
     "name": "stderr",
     "output_type": "stream",
     "text": [
      "dot: graph is too large for cairo-renderer bitmaps. Scaling by 0.888211 to fit\n"
     ]
    },
    {
     "data": {
      "text/plain": [
       "'tree2.png'"
      ]
     },
     "execution_count": 286,
     "metadata": {},
     "output_type": "execute_result"
    }
   ],
   "source": [
    "tree.export_graphviz(c2,out_file='tree2.dot', feature_names=data.columns.values, class_names=c2.classes_) \n",
    "\n",
    "with open(\"./tree2.dot\") as f :\n",
    "    dot_graph = f.read()\n",
    "graphviz.Source(dot_graph)\n",
    "graphviz.Source(dot_graph, format=\"png\").render(\"tree2\")"
   ]
  },
  {
   "cell_type": "markdown",
   "metadata": {},
   "source": [
    "Now that we have  a set of games manually verified, we can use this verification set to assess the true ability of our classifier to do its job."
   ]
  },
  {
   "cell_type": "code",
   "execution_count": 329,
   "metadata": {},
   "outputs": [],
   "source": [
    "dfVerification = pd.read_csv(\"verification_set.csv\")\n",
    "\n",
    "roleTranslate = {\n",
    "    \"midlaner\":\"MIDDLE_SOLO\",\n",
    "    \"toplaner\":\"TOP_SOLO\",\n",
    "    \"jungler\":\"JUNGLE_NONE\",\n",
    "    \"carry\":\"BOTTOM_DUO_CARRY\",\n",
    "    \"support\":\"BOTTOM_DUO_SUPPORT\",\n",
    "    \"undefined\":\"undefined\",\n",
    "    \"swaplaner\":\"swaplaner\"\n",
    "}\n",
    "\n",
    "\n",
    "\n",
    "participantEntries = []\n",
    "#Using match of another dataset but on the same patch : no game in the training set was used in the verification set.\n",
    "for g in db.gameData_92_2.find({\"gameId\":{\"$in\":[int(i) for i in list(dfVerification[\"gameId\"].values)]}}):\n",
    "    \n",
    "    #Get the players positions form the timeline\n",
    "    playersPositions = getPositions(g['timeline'])\n",
    "    \n",
    "    playerMostFrequentLane = getMostFrequentLane(playersPositions)\n",
    "    playerLaneFrequencies = getLaneFrequencies(playersPositions)\n",
    "    \n",
    "    playerStats = getStatsAt10(g[\"timeline\"])\n",
    "    \n",
    "    for p in g['participants']:\n",
    "            \n",
    "        participant = {}\n",
    "        \n",
    "        participantId = p[\"participantId\"]\n",
    "        \n",
    "        lanes = [\"jungle\",\"top\",\"mid\",\"bot\"]\n",
    "        \n",
    "        #one hot encode positions\n",
    "        for lane in lanes:\n",
    "            participant['most-frequent-'+lane] = 0\n",
    "        \n",
    "        participant['most-frequent-'+ playerMostFrequentLane[participantId]] = 1\n",
    "        \n",
    "        #Lane frequency\n",
    "        participant = {**participant, **{\"lane-frequency-\"+k:v for k,v in playerLaneFrequencies[participantId].items()} }\n",
    "        \n",
    "                \n",
    "        #Init items lists \n",
    "        for role in role_composition:\n",
    "            participant[\"has-item-overUsed-\"+role] = 0\n",
    "            participant[\"has-item-mostlyUsed-\"+role] = 0\n",
    "            participant[\"has-item-underUsed-\"+role] = 0\n",
    "        \n",
    "        #Get the item ID for each of the 7 slots and check if they are in one of the three items lists\n",
    "        for i in range(0,7):\n",
    "            \n",
    "            #Check if there is an item for the slot\n",
    "            if p['stats']['item'+str(i)] > 0:\n",
    "                for role in role_composition:\n",
    "\n",
    "                    if str(p['stats']['item'+str(i)]) in overUsedItems[role]:\n",
    "                        participant[\"has-item-overUsed-\"+role] = 1\n",
    "\n",
    "                    if str(p['stats']['item'+str(i)]) in mostlyUsedItems[role]:\n",
    "                        participant[\"has-item-mostlyUsed-\"+role] = 1\n",
    "\n",
    "                    if str(p['stats']['item'+str(i)]) in underUsedItems[role]:\n",
    "                        participant[\"has-item-underUsed-\"+role] = 1\n",
    "        \n",
    "        \n",
    "        #Summoner spells\n",
    "        participant = {**participant, **spells}\n",
    "        participant[\"spell-\"+str(p[\"spell1Id\"])] = 1\n",
    "        participant[\"spell-\"+str(p[\"spell2Id\"])] = 1\n",
    "        \n",
    "        #Player stats\n",
    "        participant = {**participant, **playerStats[str(participantId)]}\n",
    "                        \n",
    "        \n",
    "        #Player position, what we are looking for\n",
    "        participant['position'] = p['timeline']['lane']+\"_\"+p['timeline']['role']\n",
    "        \n",
    "        #game identification features\n",
    "        participant[\"participantId\"] = participantId\n",
    "        participant[\"gameId\"] = g[\"gameId\"]\n",
    "        \n",
    "        participant[\"position_verified\"] = roleTranslate[ dfVerification[dfVerification[\"gameId\"] == g[\"gameId\"]][str(p[\"participantId\"])].iloc[0] ]\n",
    "        \n",
    "        #Ignoring undefined positions and swaplaners\n",
    "        if participant[\"position_verified\"] not in [\"undefined\",\"swaplaner\"]:\n",
    "            participantEntries.append(participant)"
   ]
  },
  {
   "cell_type": "code",
   "execution_count": 330,
   "metadata": {},
   "outputs": [],
   "source": [
    "dfEntries = pd.DataFrame(participantEntries)\n",
    "\n",
    "dfEntries[\"position_prediction\"] = c2.predict(dfEntries.drop([\"position\",\"participantId\",\"gameId\",\"position_verified\"], axis=1))\n",
    "\n",
    "dfWorkingEntries = dfEntries[[\"gameId\",\"participantId\",\"position\",\"position_prediction\",\"position_verified\"]]"
   ]
  },
  {
   "cell_type": "code",
   "execution_count": 331,
   "metadata": {},
   "outputs": [
    {
     "data": {
      "text/plain": [
       "5868"
      ]
     },
     "execution_count": 331,
     "metadata": {},
     "output_type": "execute_result"
    }
   ],
   "source": [
    "dfWorkingEntries.shape[0]"
   ]
  },
  {
   "cell_type": "code",
   "execution_count": 332,
   "metadata": {},
   "outputs": [
    {
     "data": {
      "text/plain": [
       "12"
      ]
     },
     "execution_count": 332,
     "metadata": {},
     "output_type": "execute_result"
    }
   ],
   "source": [
    "dfWorkingEntries[dfWorkingEntries[\"position_prediction\"] != dfWorkingEntries[\"position_verified\"]].shape[0]"
   ]
  },
  {
   "cell_type": "code",
   "execution_count": 333,
   "metadata": {},
   "outputs": [
    {
     "data": {
      "text/plain": [
       "738"
      ]
     },
     "execution_count": 333,
     "metadata": {},
     "output_type": "execute_result"
    }
   ],
   "source": [
    "dfWorkingEntries[dfWorkingEntries[\"position\"] != dfWorkingEntries[\"position_verified\"]].shape[0]"
   ]
  },
  {
   "cell_type": "markdown",
   "metadata": {},
   "source": [
    "Out of our 5838 examples from the verification set, only 12 are wrong, compared to 738 for the original classification. Let's take a look at these mistakes."
   ]
  },
  {
   "cell_type": "code",
   "execution_count": 334,
   "metadata": {},
   "outputs": [
    {
     "data": {
      "text/html": [
       "<div>\n",
       "<style scoped>\n",
       "    .dataframe tbody tr th:only-of-type {\n",
       "        vertical-align: middle;\n",
       "    }\n",
       "\n",
       "    .dataframe tbody tr th {\n",
       "        vertical-align: top;\n",
       "    }\n",
       "\n",
       "    .dataframe thead th {\n",
       "        text-align: right;\n",
       "    }\n",
       "</style>\n",
       "<table border=\"1\" class=\"dataframe\">\n",
       "  <thead>\n",
       "    <tr style=\"text-align: right;\">\n",
       "      <th></th>\n",
       "      <th>gameId</th>\n",
       "      <th>participantId</th>\n",
       "      <th>position</th>\n",
       "      <th>position_prediction</th>\n",
       "      <th>position_verified</th>\n",
       "    </tr>\n",
       "  </thead>\n",
       "  <tbody>\n",
       "    <tr>\n",
       "      <th>203</th>\n",
       "      <td>3912854276</td>\n",
       "      <td>4</td>\n",
       "      <td>BOTTOM_DUO</td>\n",
       "      <td>BOTTOM_DUO_CARRY</td>\n",
       "      <td>BOTTOM_DUO_SUPPORT</td>\n",
       "    </tr>\n",
       "    <tr>\n",
       "      <th>513</th>\n",
       "      <td>3913087102</td>\n",
       "      <td>4</td>\n",
       "      <td>TOP_SOLO</td>\n",
       "      <td>MIDDLE_SOLO</td>\n",
       "      <td>TOP_SOLO</td>\n",
       "    </tr>\n",
       "    <tr>\n",
       "      <th>941</th>\n",
       "      <td>3913453901</td>\n",
       "      <td>2</td>\n",
       "      <td>TOP_SOLO</td>\n",
       "      <td>BOTTOM_DUO_SUPPORT</td>\n",
       "      <td>TOP_SOLO</td>\n",
       "    </tr>\n",
       "    <tr>\n",
       "      <th>2137</th>\n",
       "      <td>3914743235</td>\n",
       "      <td>8</td>\n",
       "      <td>TOP_SOLO</td>\n",
       "      <td>MIDDLE_SOLO</td>\n",
       "      <td>TOP_SOLO</td>\n",
       "    </tr>\n",
       "    <tr>\n",
       "      <th>2349</th>\n",
       "      <td>3914926377</td>\n",
       "      <td>2</td>\n",
       "      <td>NONE_DUO_SUPPORT</td>\n",
       "      <td>MIDDLE_SOLO</td>\n",
       "      <td>JUNGLE_NONE</td>\n",
       "    </tr>\n",
       "    <tr>\n",
       "      <th>2440</th>\n",
       "      <td>3914993472</td>\n",
       "      <td>3</td>\n",
       "      <td>TOP_DUO_CARRY</td>\n",
       "      <td>MIDDLE_SOLO</td>\n",
       "      <td>TOP_SOLO</td>\n",
       "    </tr>\n",
       "    <tr>\n",
       "      <th>2461</th>\n",
       "      <td>3915023859</td>\n",
       "      <td>4</td>\n",
       "      <td>MIDDLE_DUO_SUPPORT</td>\n",
       "      <td>MIDDLE_SOLO</td>\n",
       "      <td>TOP_SOLO</td>\n",
       "    </tr>\n",
       "    <tr>\n",
       "      <th>2935</th>\n",
       "      <td>3915465270</td>\n",
       "      <td>8</td>\n",
       "      <td>BOTTOM_DUO</td>\n",
       "      <td>BOTTOM_DUO_SUPPORT</td>\n",
       "      <td>BOTTOM_DUO_CARRY</td>\n",
       "    </tr>\n",
       "    <tr>\n",
       "      <th>3085</th>\n",
       "      <td>3915637683</td>\n",
       "      <td>8</td>\n",
       "      <td>NONE_DUO_SUPPORT</td>\n",
       "      <td>JUNGLE_NONE</td>\n",
       "      <td>TOP_SOLO</td>\n",
       "    </tr>\n",
       "    <tr>\n",
       "      <th>3404</th>\n",
       "      <td>3915938526</td>\n",
       "      <td>7</td>\n",
       "      <td>MIDDLE_DUO</td>\n",
       "      <td>MIDDLE_SOLO</td>\n",
       "      <td>TOP_SOLO</td>\n",
       "    </tr>\n",
       "    <tr>\n",
       "      <th>3414</th>\n",
       "      <td>3915944893</td>\n",
       "      <td>7</td>\n",
       "      <td>JUNGLE_NONE</td>\n",
       "      <td>JUNGLE_NONE</td>\n",
       "      <td>BOTTOM_DUO_CARRY</td>\n",
       "    </tr>\n",
       "    <tr>\n",
       "      <th>3416</th>\n",
       "      <td>3915944893</td>\n",
       "      <td>9</td>\n",
       "      <td>BOTTOM_SOLO</td>\n",
       "      <td>BOTTOM_DUO_CARRY</td>\n",
       "      <td>BOTTOM_DUO_SUPPORT</td>\n",
       "    </tr>\n",
       "  </tbody>\n",
       "</table>\n",
       "</div>"
      ],
      "text/plain": [
       "          gameId  participantId            position position_prediction  \\\n",
       "203   3912854276  4              BOTTOM_DUO          BOTTOM_DUO_CARRY     \n",
       "513   3913087102  4              TOP_SOLO            MIDDLE_SOLO          \n",
       "941   3913453901  2              TOP_SOLO            BOTTOM_DUO_SUPPORT   \n",
       "2137  3914743235  8              TOP_SOLO            MIDDLE_SOLO          \n",
       "2349  3914926377  2              NONE_DUO_SUPPORT    MIDDLE_SOLO          \n",
       "2440  3914993472  3              TOP_DUO_CARRY       MIDDLE_SOLO          \n",
       "2461  3915023859  4              MIDDLE_DUO_SUPPORT  MIDDLE_SOLO          \n",
       "2935  3915465270  8              BOTTOM_DUO          BOTTOM_DUO_SUPPORT   \n",
       "3085  3915637683  8              NONE_DUO_SUPPORT    JUNGLE_NONE          \n",
       "3404  3915938526  7              MIDDLE_DUO          MIDDLE_SOLO          \n",
       "3414  3915944893  7              JUNGLE_NONE         JUNGLE_NONE          \n",
       "3416  3915944893  9              BOTTOM_SOLO         BOTTOM_DUO_CARRY     \n",
       "\n",
       "       position_verified  \n",
       "203   BOTTOM_DUO_SUPPORT  \n",
       "513   TOP_SOLO            \n",
       "941   TOP_SOLO            \n",
       "2137  TOP_SOLO            \n",
       "2349  JUNGLE_NONE         \n",
       "2440  TOP_SOLO            \n",
       "2461  TOP_SOLO            \n",
       "2935  BOTTOM_DUO_CARRY    \n",
       "3085  TOP_SOLO            \n",
       "3404  TOP_SOLO            \n",
       "3414  BOTTOM_DUO_CARRY    \n",
       "3416  BOTTOM_DUO_SUPPORT  "
      ]
     },
     "execution_count": 334,
     "metadata": {},
     "output_type": "execute_result"
    }
   ],
   "source": [
    "dfWorkingEntries[dfWorkingEntries[\"position_prediction\"] != dfWorkingEntries[\"position_verified\"]]"
   ]
  },
  {
   "cell_type": "markdown",
   "metadata": {},
   "source": [
    "Out of these 13 cases, we have : \n",
    " * A support farming (and not supporting though, vision score at 8? -> 3912854276\n",
    " * A late swaplane at 8th minute -> 3913087102\n",
    " * AFK -> 3913453901 3915465270 3915637683 3915944893\n",
    " * Top classified as midlaners due to quite constant misclassification from match noisy labels -> 3914743235 3914993472 3915023859 3915938526\n",
    "     * Note : 3 of them are tied at 50/50 on mid or top\n",
    " * Someone trying to handle the game despite feeder -> 3914926377"
   ]
  },
  {
   "cell_type": "code",
   "execution_count": 337,
   "metadata": {},
   "outputs": [],
   "source": [
    "def getEntryStats(gameId, participantId):\n",
    "    return dfEntries[((dfEntries[\"gameId\"]==gameId) & (dfEntries[\"participantId\"]==participantId))].iloc[0].to_dict()\n",
    "\n",
    "def getEntryPredict(gameId, participantId):\n",
    "    return c2.predict(dfEntries[((dfEntries[\"gameId\"]==gameId) & (dfEntries[\"participantId\"]==participantId))].drop([\"position\",\"participantId\",\"gameId\",\"position_prediction\",\"position_verified\"], axis=1))\n",
    "\n",
    "def getEntryPredictProba(gameId, participantId):\n",
    "    return c2.predict_proba(dfEntries[((dfEntries[\"gameId\"]==gameId) & (dfEntries[\"participantId\"]==participantId))].drop([\"position\",\"participantId\",\"gameId\",\"position_prediction\",\"position_verified\"], axis=1))"
   ]
  },
  {
   "cell_type": "code",
   "execution_count": 338,
   "metadata": {},
   "outputs": [
    {
     "data": {
      "text/plain": [
       "{'gameId': 3912854276,\n",
       " 'has-item-mostlyUsed-BOTTOM_DUO_CARRY': 0,\n",
       " 'has-item-mostlyUsed-BOTTOM_DUO_SUPPORT': 0,\n",
       " 'has-item-mostlyUsed-JUNGLE_NONE': 0,\n",
       " 'has-item-mostlyUsed-MIDDLE_SOLO': 1,\n",
       " 'has-item-mostlyUsed-TOP_SOLO': 0,\n",
       " 'has-item-overUsed-BOTTOM_DUO_CARRY': 0,\n",
       " 'has-item-overUsed-BOTTOM_DUO_SUPPORT': 1,\n",
       " 'has-item-overUsed-JUNGLE_NONE': 0,\n",
       " 'has-item-overUsed-MIDDLE_SOLO': 0,\n",
       " 'has-item-overUsed-TOP_SOLO': 0,\n",
       " 'has-item-underUsed-BOTTOM_DUO_CARRY': 1,\n",
       " 'has-item-underUsed-BOTTOM_DUO_SUPPORT': 1,\n",
       " 'has-item-underUsed-JUNGLE_NONE': 1,\n",
       " 'has-item-underUsed-MIDDLE_SOLO': 1,\n",
       " 'has-item-underUsed-TOP_SOLO': 1,\n",
       " 'jungleMinionRatio': 0.0,\n",
       " 'jungleMinionsKilled': 0,\n",
       " 'lane-frequency-bot': 7,\n",
       " 'lane-frequency-jungle': 2,\n",
       " 'lane-frequency-mid': 1,\n",
       " 'lane-frequency-top': 0,\n",
       " 'minionsKilled': 33,\n",
       " 'most-frequent-bot': 1,\n",
       " 'most-frequent-jungle': 0,\n",
       " 'most-frequent-mid': 0,\n",
       " 'most-frequent-top': 0,\n",
       " 'participantId': 4,\n",
       " 'position': 'BOTTOM_DUO',\n",
       " 'position_verified': 'BOTTOM_DUO_SUPPORT',\n",
       " 'spell-1': 0,\n",
       " 'spell-11': 0,\n",
       " 'spell-12': 0,\n",
       " 'spell-14': 1,\n",
       " 'spell-21': 0,\n",
       " 'spell-3': 0,\n",
       " 'spell-4': 1,\n",
       " 'spell-6': 0,\n",
       " 'spell-7': 0,\n",
       " 'position_prediction': 'BOTTOM_DUO_CARRY'}"
      ]
     },
     "execution_count": 338,
     "metadata": {},
     "output_type": "execute_result"
    }
   ],
   "source": [
    "getEntryStats(3912854276,4)"
   ]
  },
  {
   "cell_type": "code",
   "execution_count": 339,
   "metadata": {},
   "outputs": [
    {
     "data": {
      "text/plain": [
       "array(['MIDDLE_SOLO'], dtype=object)"
      ]
     },
     "execution_count": 339,
     "metadata": {},
     "output_type": "execute_result"
    }
   ],
   "source": [
    "getEntryPredict(3913379618,6)"
   ]
  },
  {
   "cell_type": "code",
   "execution_count": 341,
   "metadata": {},
   "outputs": [
    {
     "data": {
      "text/plain": [
       "array([[0. , 0. , 0. , 0.5, 0.5]])"
      ]
     },
     "execution_count": 341,
     "metadata": {},
     "output_type": "execute_result"
    }
   ],
   "source": [
    "getEntryPredictProba(3914743235,8)"
   ]
  },
  {
   "cell_type": "code",
   "execution_count": 342,
   "metadata": {},
   "outputs": [
    {
     "data": {
      "text/plain": [
       "array([[0. , 0. , 0. , 0.5, 0.5]])"
      ]
     },
     "execution_count": 342,
     "metadata": {},
     "output_type": "execute_result"
    }
   ],
   "source": [
    "getEntryPredictProba(3914993472,3)"
   ]
  },
  {
   "cell_type": "code",
   "execution_count": 343,
   "metadata": {},
   "outputs": [
    {
     "data": {
      "text/plain": [
       "array([[0., 0., 0., 1., 0.]])"
      ]
     },
     "execution_count": 343,
     "metadata": {},
     "output_type": "execute_result"
    }
   ],
   "source": [
    "getEntryPredictProba(3915023859,4)"
   ]
  },
  {
   "cell_type": "code",
   "execution_count": 344,
   "metadata": {},
   "outputs": [
    {
     "data": {
      "text/plain": [
       "array([[0. , 0. , 0. , 0.5, 0.5]])"
      ]
     },
     "execution_count": 344,
     "metadata": {},
     "output_type": "execute_result"
    }
   ],
   "source": [
    "getEntryPredictProba(3915938526,7)"
   ]
  },
  {
   "cell_type": "code",
   "execution_count": 313,
   "metadata": {},
   "outputs": [
    {
     "data": {
      "text/plain": [
       "array(['BOTTOM_DUO_CARRY', 'BOTTOM_DUO_SUPPORT', 'JUNGLE_NONE',\n",
       "       'MIDDLE_SOLO', 'TOP_SOLO'], dtype=object)"
      ]
     },
     "execution_count": 313,
     "metadata": {},
     "output_type": "execute_result"
    }
   ],
   "source": [
    "c2.classes_"
   ]
  },
  {
   "cell_type": "code",
   "execution_count": 274,
   "metadata": {},
   "outputs": [
    {
     "data": {
      "text/html": [
       "<div>\n",
       "<style scoped>\n",
       "    .dataframe tbody tr th:only-of-type {\n",
       "        vertical-align: middle;\n",
       "    }\n",
       "\n",
       "    .dataframe tbody tr th {\n",
       "        vertical-align: top;\n",
       "    }\n",
       "\n",
       "    .dataframe thead th {\n",
       "        text-align: right;\n",
       "    }\n",
       "</style>\n",
       "<table border=\"1\" class=\"dataframe\">\n",
       "  <thead>\n",
       "    <tr style=\"text-align: right;\">\n",
       "      <th></th>\n",
       "      <th>has-item-mostlyUsed-BOTTOM_DUO_CARRY</th>\n",
       "      <th>has-item-mostlyUsed-BOTTOM_DUO_SUPPORT</th>\n",
       "      <th>has-item-mostlyUsed-JUNGLE_NONE</th>\n",
       "      <th>has-item-mostlyUsed-MIDDLE_SOLO</th>\n",
       "      <th>has-item-mostlyUsed-TOP_SOLO</th>\n",
       "      <th>has-item-overUsed-BOTTOM_DUO_CARRY</th>\n",
       "      <th>has-item-overUsed-BOTTOM_DUO_SUPPORT</th>\n",
       "      <th>has-item-overUsed-JUNGLE_NONE</th>\n",
       "      <th>has-item-overUsed-MIDDLE_SOLO</th>\n",
       "      <th>has-item-overUsed-TOP_SOLO</th>\n",
       "      <th>...</th>\n",
       "      <th>most-frequent-top</th>\n",
       "      <th>spell-1</th>\n",
       "      <th>spell-11</th>\n",
       "      <th>spell-12</th>\n",
       "      <th>spell-14</th>\n",
       "      <th>spell-21</th>\n",
       "      <th>spell-3</th>\n",
       "      <th>spell-4</th>\n",
       "      <th>spell-6</th>\n",
       "      <th>spell-7</th>\n",
       "    </tr>\n",
       "  </thead>\n",
       "  <tbody>\n",
       "    <tr>\n",
       "      <th>5180</th>\n",
       "      <td>1</td>\n",
       "      <td>0</td>\n",
       "      <td>0</td>\n",
       "      <td>1</td>\n",
       "      <td>0</td>\n",
       "      <td>0</td>\n",
       "      <td>0</td>\n",
       "      <td>0</td>\n",
       "      <td>0</td>\n",
       "      <td>0</td>\n",
       "      <td>...</td>\n",
       "      <td>0</td>\n",
       "      <td>0</td>\n",
       "      <td>0</td>\n",
       "      <td>0</td>\n",
       "      <td>0</td>\n",
       "      <td>1</td>\n",
       "      <td>0</td>\n",
       "      <td>1</td>\n",
       "      <td>0</td>\n",
       "      <td>0</td>\n",
       "    </tr>\n",
       "    <tr>\n",
       "      <th>21406</th>\n",
       "      <td>1</td>\n",
       "      <td>0</td>\n",
       "      <td>0</td>\n",
       "      <td>1</td>\n",
       "      <td>0</td>\n",
       "      <td>0</td>\n",
       "      <td>0</td>\n",
       "      <td>0</td>\n",
       "      <td>0</td>\n",
       "      <td>0</td>\n",
       "      <td>...</td>\n",
       "      <td>0</td>\n",
       "      <td>0</td>\n",
       "      <td>0</td>\n",
       "      <td>0</td>\n",
       "      <td>0</td>\n",
       "      <td>1</td>\n",
       "      <td>0</td>\n",
       "      <td>1</td>\n",
       "      <td>0</td>\n",
       "      <td>0</td>\n",
       "    </tr>\n",
       "    <tr>\n",
       "      <th>51929</th>\n",
       "      <td>1</td>\n",
       "      <td>0</td>\n",
       "      <td>0</td>\n",
       "      <td>1</td>\n",
       "      <td>0</td>\n",
       "      <td>0</td>\n",
       "      <td>0</td>\n",
       "      <td>0</td>\n",
       "      <td>0</td>\n",
       "      <td>0</td>\n",
       "      <td>...</td>\n",
       "      <td>0</td>\n",
       "      <td>0</td>\n",
       "      <td>0</td>\n",
       "      <td>0</td>\n",
       "      <td>0</td>\n",
       "      <td>1</td>\n",
       "      <td>0</td>\n",
       "      <td>1</td>\n",
       "      <td>0</td>\n",
       "      <td>0</td>\n",
       "    </tr>\n",
       "    <tr>\n",
       "      <th>57738</th>\n",
       "      <td>1</td>\n",
       "      <td>0</td>\n",
       "      <td>0</td>\n",
       "      <td>1</td>\n",
       "      <td>0</td>\n",
       "      <td>0</td>\n",
       "      <td>0</td>\n",
       "      <td>0</td>\n",
       "      <td>0</td>\n",
       "      <td>0</td>\n",
       "      <td>...</td>\n",
       "      <td>0</td>\n",
       "      <td>0</td>\n",
       "      <td>0</td>\n",
       "      <td>0</td>\n",
       "      <td>0</td>\n",
       "      <td>1</td>\n",
       "      <td>0</td>\n",
       "      <td>1</td>\n",
       "      <td>0</td>\n",
       "      <td>0</td>\n",
       "    </tr>\n",
       "  </tbody>\n",
       "</table>\n",
       "<p>4 rows × 35 columns</p>\n",
       "</div>"
      ],
      "text/plain": [
       "       has-item-mostlyUsed-BOTTOM_DUO_CARRY  \\\n",
       "5180   1                                      \n",
       "21406  1                                      \n",
       "51929  1                                      \n",
       "57738  1                                      \n",
       "\n",
       "       has-item-mostlyUsed-BOTTOM_DUO_SUPPORT  \\\n",
       "5180   0                                        \n",
       "21406  0                                        \n",
       "51929  0                                        \n",
       "57738  0                                        \n",
       "\n",
       "       has-item-mostlyUsed-JUNGLE_NONE  has-item-mostlyUsed-MIDDLE_SOLO  \\\n",
       "5180   0                                1                                 \n",
       "21406  0                                1                                 \n",
       "51929  0                                1                                 \n",
       "57738  0                                1                                 \n",
       "\n",
       "       has-item-mostlyUsed-TOP_SOLO  has-item-overUsed-BOTTOM_DUO_CARRY  \\\n",
       "5180   0                             0                                    \n",
       "21406  0                             0                                    \n",
       "51929  0                             0                                    \n",
       "57738  0                             0                                    \n",
       "\n",
       "       has-item-overUsed-BOTTOM_DUO_SUPPORT  has-item-overUsed-JUNGLE_NONE  \\\n",
       "5180   0                                     0                               \n",
       "21406  0                                     0                               \n",
       "51929  0                                     0                               \n",
       "57738  0                                     0                               \n",
       "\n",
       "       has-item-overUsed-MIDDLE_SOLO  has-item-overUsed-TOP_SOLO  ...  \\\n",
       "5180   0                              0                           ...   \n",
       "21406  0                              0                           ...   \n",
       "51929  0                              0                           ...   \n",
       "57738  0                              0                           ...   \n",
       "\n",
       "       most-frequent-top  spell-1  spell-11  spell-12  spell-14  spell-21  \\\n",
       "5180   0                  0        0         0         0         1          \n",
       "21406  0                  0        0         0         0         1          \n",
       "51929  0                  0        0         0         0         1          \n",
       "57738  0                  0        0         0         0         1          \n",
       "\n",
       "       spell-3  spell-4  spell-6  spell-7  \n",
       "5180   0        1        0        0        \n",
       "21406  0        1        0        0        \n",
       "51929  0        1        0        0        \n",
       "57738  0        1        0        0        \n",
       "\n",
       "[4 rows x 35 columns]"
      ]
     },
     "execution_count": 274,
     "metadata": {},
     "output_type": "execute_result"
    }
   ],
   "source": [
    "data[((data[\"most-frequent-bot\"] == 0) & (data[\"most-frequent-top\"]==0) & (data[\"most-frequent-mid\"]==1) & (data[\"minionsKilled\"]>39)  & (data[\"jungleMinionsKilled\"]<14.5)  & (data[\"spell-21\"]==1)    )]\n",
    "data[((data[\"jungleMinionsKilled\"]<=14.5)  & (data[\"lane-frequency-bot\"]<=2.5)  & (data[\"lane-frequency-top\"]<=2.5) & (data[\"lane-frequency-top\"]>0)  & (data[\"lane-frequency-mid\"]<=6.5)  & (data[\"minionsKilled\"]>40) & (data[\"minionsKilled\"]<94)  & (data[\"spell-21\"]==1)  & (data[\"spell-6\"]==0) & (data[\"has-item-mostlyUsed-BOTTOM_DUO_CARRY\"]==1)& (data[\"has-item-mostlyUsed-BOTTOM_DUO_SUPPORT\"]==0) & (data[\"jungleMinionRatio\"]<=0.055)    )]"
   ]
  },
  {
   "cell_type": "code",
   "execution_count": 308,
   "metadata": {},
   "outputs": [
    {
     "data": {
      "text/plain": [
       "3853     9 \n",
       "9835     1 \n",
       "10807    3 \n",
       "20513    9 \n",
       "26166    7 \n",
       "27624    5 \n",
       "30264    10\n",
       "39996    2 \n",
       "40238    4 \n",
       "40477    8 \n",
       "40659    10\n",
       "41061    7 \n",
       "45559    10\n",
       "56381    7 \n",
       "59094    5 \n",
       "62938    9 \n",
       "Name: participantId, dtype: int64"
      ]
     },
     "execution_count": 308,
     "metadata": {},
     "output_type": "execute_result"
    }
   ],
   "source": [
    "df[((df[\"lane-frequency-top\"]==8) & (df[\"jungleMinionRatio\"]<=0.015) & (data[\"minionsKilled\"]==63) & (data[\"has-item-mostlyUsed-BOTTOM_DUO_CARRY\"]==0) & (data[\"has-item-overUsed-BOTTOM_DUO_CARRY\"]==0) & (data[\"has-item-underUsed-JUNGLE_NONE\"]==0) )][\"participantId\"]"
   ]
  },
  {
   "cell_type": "markdown",
   "metadata": {},
   "source": [
    "# Gradient Boosting and Random Forests"
   ]
  },
  {
   "cell_type": "code",
   "execution_count": 363,
   "metadata": {},
   "outputs": [
    {
     "name": "stderr",
     "output_type": "stream",
     "text": [
      "/usr/local/lib/python3.6/site-packages/sklearn/model_selection/_split.py:1788: FutureWarning: From version 0.21, test_size will always complement train_size unless both are specified.\n",
      "  FutureWarning)\n"
     ]
    },
    {
     "name": "stdout",
     "output_type": "stream",
     "text": [
      "[0.9962462462462462, 0.996996996996997, 0.998048048048048, 0.998048048048048, 0.9972972972972973, 0.9977477477477478, 0.996996996996997, 0.9966966966966967, 0.998048048048048, 0.9977477477477478]\n"
     ]
    },
    {
     "data": {
      "text/plain": [
       "0.9973873873873874"
      ]
     },
     "execution_count": 363,
     "metadata": {},
     "output_type": "execute_result"
    }
   ],
   "source": [
    "\n",
    "from sklearn.ensemble import GradientBoostingClassifier\n",
    "\n",
    "target = df[\"position\"]\n",
    "data = df.drop([\"position\",\"participantId\",\"gameId\"], axis=1)\n",
    "\n",
    "shuffle_split = StratifiedShuffleSplit(train_size=0.9, n_splits=10)\n",
    "\n",
    "c = GradientBoostingClassifier(min_samples_split=5)\n",
    "\n",
    "\n",
    "accs = []\n",
    "\n",
    "for train_index, test_index in shuffle_split.split(data,target):\n",
    "    c.fit(data.iloc[train_index], target.iloc[train_index])\n",
    "    accs.append(accuracy_score(target[test_index], c.predict(data.iloc[test_index])))\n",
    "\n",
    "print(accs)\n",
    "sum(accs) / len(accs)"
   ]
  },
  {
   "cell_type": "code",
   "execution_count": 364,
   "metadata": {},
   "outputs": [],
   "source": [
    "dfEntries = pd.DataFrame(participantEntries)\n",
    "\n",
    "dfEntries[\"position_prediction\"] = c.predict(dfEntries.drop([\"position\",\"participantId\",\"gameId\",\"position_verified\"], axis=1))\n",
    "\n",
    "dfWorkingEntries = dfEntries[[\"gameId\",\"participantId\",\"position\",\"position_prediction\",\"position_verified\"]]"
   ]
  },
  {
   "cell_type": "code",
   "execution_count": 365,
   "metadata": {},
   "outputs": [
    {
     "data": {
      "text/plain": [
       "3"
      ]
     },
     "execution_count": 365,
     "metadata": {},
     "output_type": "execute_result"
    }
   ],
   "source": [
    "dfWorkingEntries[dfWorkingEntries[\"position_prediction\"] != dfWorkingEntries[\"position_verified\"]].shape[0]"
   ]
  },
  {
   "cell_type": "code",
   "execution_count": 366,
   "metadata": {},
   "outputs": [
    {
     "data": {
      "text/html": [
       "<div>\n",
       "<style scoped>\n",
       "    .dataframe tbody tr th:only-of-type {\n",
       "        vertical-align: middle;\n",
       "    }\n",
       "\n",
       "    .dataframe tbody tr th {\n",
       "        vertical-align: top;\n",
       "    }\n",
       "\n",
       "    .dataframe thead th {\n",
       "        text-align: right;\n",
       "    }\n",
       "</style>\n",
       "<table border=\"1\" class=\"dataframe\">\n",
       "  <thead>\n",
       "    <tr style=\"text-align: right;\">\n",
       "      <th></th>\n",
       "      <th>gameId</th>\n",
       "      <th>participantId</th>\n",
       "      <th>position</th>\n",
       "      <th>position_prediction</th>\n",
       "      <th>position_verified</th>\n",
       "    </tr>\n",
       "  </thead>\n",
       "  <tbody>\n",
       "    <tr>\n",
       "      <th>2349</th>\n",
       "      <td>3914926377</td>\n",
       "      <td>2</td>\n",
       "      <td>NONE_DUO_SUPPORT</td>\n",
       "      <td>MIDDLE_SOLO</td>\n",
       "      <td>JUNGLE_NONE</td>\n",
       "    </tr>\n",
       "    <tr>\n",
       "      <th>3414</th>\n",
       "      <td>3915944893</td>\n",
       "      <td>7</td>\n",
       "      <td>JUNGLE_NONE</td>\n",
       "      <td>TOP_SOLO</td>\n",
       "      <td>BOTTOM_DUO_CARRY</td>\n",
       "    </tr>\n",
       "    <tr>\n",
       "      <th>5066</th>\n",
       "      <td>3917774255</td>\n",
       "      <td>9</td>\n",
       "      <td>JUNGLE_NONE</td>\n",
       "      <td>TOP_SOLO</td>\n",
       "      <td>JUNGLE_NONE</td>\n",
       "    </tr>\n",
       "  </tbody>\n",
       "</table>\n",
       "</div>"
      ],
      "text/plain": [
       "          gameId  participantId          position position_prediction  \\\n",
       "2349  3914926377  2              NONE_DUO_SUPPORT  MIDDLE_SOLO          \n",
       "3414  3915944893  7              JUNGLE_NONE       TOP_SOLO             \n",
       "5066  3917774255  9              JUNGLE_NONE       TOP_SOLO             \n",
       "\n",
       "     position_verified  \n",
       "2349  JUNGLE_NONE       \n",
       "3414  BOTTOM_DUO_CARRY  \n",
       "5066  JUNGLE_NONE       "
      ]
     },
     "execution_count": 366,
     "metadata": {},
     "output_type": "execute_result"
    }
   ],
   "source": [
    "dfWorkingEntries[dfWorkingEntries[\"position_prediction\"] != dfWorkingEntries[\"position_verified\"]]"
   ]
  },
  {
   "cell_type": "code",
   "execution_count": 369,
   "metadata": {},
   "outputs": [
    {
     "data": {
      "text/html": [
       "<div>\n",
       "<style scoped>\n",
       "    .dataframe tbody tr th:only-of-type {\n",
       "        vertical-align: middle;\n",
       "    }\n",
       "\n",
       "    .dataframe tbody tr th {\n",
       "        vertical-align: top;\n",
       "    }\n",
       "\n",
       "    .dataframe thead th {\n",
       "        text-align: right;\n",
       "    }\n",
       "</style>\n",
       "<table border=\"1\" class=\"dataframe\">\n",
       "  <thead>\n",
       "    <tr style=\"text-align: right;\">\n",
       "      <th></th>\n",
       "      <th>has-item-mostlyUsed-BOTTOM_DUO_CARRY</th>\n",
       "      <th>has-item-mostlyUsed-BOTTOM_DUO_SUPPORT</th>\n",
       "      <th>has-item-mostlyUsed-JUNGLE_NONE</th>\n",
       "      <th>has-item-mostlyUsed-MIDDLE_SOLO</th>\n",
       "      <th>has-item-mostlyUsed-TOP_SOLO</th>\n",
       "      <th>has-item-overUsed-BOTTOM_DUO_CARRY</th>\n",
       "      <th>has-item-overUsed-BOTTOM_DUO_SUPPORT</th>\n",
       "      <th>has-item-overUsed-JUNGLE_NONE</th>\n",
       "      <th>has-item-overUsed-MIDDLE_SOLO</th>\n",
       "      <th>has-item-overUsed-TOP_SOLO</th>\n",
       "      <th>...</th>\n",
       "      <th>spell-1</th>\n",
       "      <th>spell-11</th>\n",
       "      <th>spell-12</th>\n",
       "      <th>spell-14</th>\n",
       "      <th>spell-21</th>\n",
       "      <th>spell-3</th>\n",
       "      <th>spell-4</th>\n",
       "      <th>spell-6</th>\n",
       "      <th>spell-7</th>\n",
       "      <th>position_prediction</th>\n",
       "    </tr>\n",
       "  </thead>\n",
       "  <tbody>\n",
       "    <tr>\n",
       "      <th>5066</th>\n",
       "      <td>0</td>\n",
       "      <td>0</td>\n",
       "      <td>1</td>\n",
       "      <td>0</td>\n",
       "      <td>0</td>\n",
       "      <td>0</td>\n",
       "      <td>0</td>\n",
       "      <td>1</td>\n",
       "      <td>0</td>\n",
       "      <td>0</td>\n",
       "      <td>...</td>\n",
       "      <td>0</td>\n",
       "      <td>1</td>\n",
       "      <td>0</td>\n",
       "      <td>0</td>\n",
       "      <td>0</td>\n",
       "      <td>0</td>\n",
       "      <td>1</td>\n",
       "      <td>0</td>\n",
       "      <td>0</td>\n",
       "      <td>TOP_SOLO</td>\n",
       "    </tr>\n",
       "  </tbody>\n",
       "</table>\n",
       "<p>1 rows × 36 columns</p>\n",
       "</div>"
      ],
      "text/plain": [
       "      has-item-mostlyUsed-BOTTOM_DUO_CARRY  \\\n",
       "5066  0                                      \n",
       "\n",
       "      has-item-mostlyUsed-BOTTOM_DUO_SUPPORT  has-item-mostlyUsed-JUNGLE_NONE  \\\n",
       "5066  0                                       1                                 \n",
       "\n",
       "      has-item-mostlyUsed-MIDDLE_SOLO  has-item-mostlyUsed-TOP_SOLO  \\\n",
       "5066  0                                0                              \n",
       "\n",
       "      has-item-overUsed-BOTTOM_DUO_CARRY  \\\n",
       "5066  0                                    \n",
       "\n",
       "      has-item-overUsed-BOTTOM_DUO_SUPPORT  has-item-overUsed-JUNGLE_NONE  \\\n",
       "5066  0                                     1                               \n",
       "\n",
       "      has-item-overUsed-MIDDLE_SOLO  has-item-overUsed-TOP_SOLO  ...  spell-1  \\\n",
       "5066  0                              0                           ...  0         \n",
       "\n",
       "      spell-11  spell-12  spell-14  spell-21  spell-3  spell-4  spell-6  \\\n",
       "5066  1         0         0         0         0        1        0         \n",
       "\n",
       "      spell-7  position_prediction  \n",
       "5066  0        TOP_SOLO             \n",
       "\n",
       "[1 rows x 36 columns]"
      ]
     },
     "execution_count": 369,
     "metadata": {},
     "output_type": "execute_result"
    }
   ],
   "source": [
    "dfEntries[((dfEntries[\"gameId\"]==3917774255) & (dfEntries[\"participantId\"]==9))].drop([\"position\",\"participantId\",\"gameId\",\"position_verified\"], axis=1)"
   ]
  },
  {
   "cell_type": "code",
   "execution_count": 371,
   "metadata": {},
   "outputs": [
    {
     "data": {
      "text/plain": [
       "array([[5.43948616e-002, 4.66187486e-002, 3.79666290e-297,\n",
       "        3.93422642e-001, 5.05563747e-001]])"
      ]
     },
     "execution_count": 371,
     "metadata": {},
     "output_type": "execute_result"
    }
   ],
   "source": [
    "c.predict_proba(dfEntries[((dfEntries[\"gameId\"]==3917774255) & (dfEntries[\"participantId\"]==9))].drop([\"position\",\"participantId\",\"gameId\",\"position_verified\",\"position_prediction\"], axis=1))"
   ]
  },
  {
   "cell_type": "code",
   "execution_count": 372,
   "metadata": {},
   "outputs": [
    {
     "data": {
      "text/plain": [
       "array(['BOTTOM_DUO_CARRY', 'BOTTOM_DUO_SUPPORT', 'JUNGLE_NONE',\n",
       "       'MIDDLE_SOLO', 'TOP_SOLO'], dtype=object)"
      ]
     },
     "execution_count": 372,
     "metadata": {},
     "output_type": "execute_result"
    }
   ],
   "source": [
    "c.classes_"
   ]
  },
  {
   "cell_type": "code",
   "execution_count": 376,
   "metadata": {},
   "outputs": [
    {
     "data": {
      "text/plain": [
       "False"
      ]
     },
     "execution_count": 376,
     "metadata": {},
     "output_type": "execute_result"
    }
   ],
   "source": [
    "3.79666290e-297 > 3.05563747e-001"
   ]
  },
  {
   "cell_type": "markdown",
   "metadata": {},
   "source": [
    "🠑 Strange case where jungler prediciton proba got a e-297, I suppose it's an overflow error of some sort."
   ]
  },
  {
   "cell_type": "code",
   "execution_count": 385,
   "metadata": {},
   "outputs": [],
   "source": [
    "dfEntries = pd.DataFrame(participantEntries)"
   ]
  },
  {
   "cell_type": "code",
   "execution_count": 387,
   "metadata": {},
   "outputs": [],
   "source": [
    "dfEntries.to_csv(\"dataset_verification.csv\", index=False)"
   ]
  },
  {
   "cell_type": "code",
   "execution_count": 398,
   "metadata": {},
   "outputs": [
    {
     "name": "stderr",
     "output_type": "stream",
     "text": [
      "/usr/local/lib/python3.6/site-packages/sklearn/model_selection/_split.py:1788: FutureWarning: From version 0.21, test_size will always complement train_size unless both are specified.\n",
      "  FutureWarning)\n"
     ]
    },
    {
     "name": "stdout",
     "output_type": "stream",
     "text": [
      "[0.9975975975975976, 0.996996996996997, 0.996996996996997, 0.9983483483483484, 0.998048048048048, 0.9978978978978978, 0.9974474474474474, 0.9972972972972973, 0.9978978978978978, 0.9975975975975976]\n"
     ]
    },
    {
     "data": {
      "text/plain": [
       "0.9976126126126126"
      ]
     },
     "execution_count": 398,
     "metadata": {},
     "output_type": "execute_result"
    }
   ],
   "source": [
    "from sklearn.ensemble import RandomForestClassifier\n",
    "\n",
    "target = df[\"position\"]\n",
    "data = df.drop([\"position\",\"participantId\",\"gameId\"], axis=1)\n",
    "\n",
    "shuffle_split = StratifiedShuffleSplit(train_size=0.9, n_splits=10)\n",
    "\n",
    "c = RandomForestClassifier(min_samples_split=5, n_estimators=100)\n",
    "\n",
    "\n",
    "accs = []\n",
    "\n",
    "for train_index, test_index in shuffle_split.split(data,target):\n",
    "    c.fit(data.iloc[train_index], target.iloc[train_index])\n",
    "    accs.append(accuracy_score(target[test_index], c.predict(data.iloc[test_index])))\n",
    "\n",
    "print(accs)\n",
    "sum(accs) / len(accs)"
   ]
  },
  {
   "cell_type": "code",
   "execution_count": 399,
   "metadata": {},
   "outputs": [],
   "source": [
    "dfEntries = pd.DataFrame(participantEntries)\n",
    "\n",
    "dfEntries[\"position_prediction\"] = c.predict(dfEntries.drop([\"position\",\"participantId\",\"gameId\",\"position_verified\"], axis=1))\n",
    "\n",
    "dfWorkingEntries = dfEntries[[\"gameId\",\"participantId\",\"position\",\"position_prediction\",\"position_verified\"]]"
   ]
  },
  {
   "cell_type": "code",
   "execution_count": 400,
   "metadata": {},
   "outputs": [
    {
     "data": {
      "text/html": [
       "<div>\n",
       "<style scoped>\n",
       "    .dataframe tbody tr th:only-of-type {\n",
       "        vertical-align: middle;\n",
       "    }\n",
       "\n",
       "    .dataframe tbody tr th {\n",
       "        vertical-align: top;\n",
       "    }\n",
       "\n",
       "    .dataframe thead th {\n",
       "        text-align: right;\n",
       "    }\n",
       "</style>\n",
       "<table border=\"1\" class=\"dataframe\">\n",
       "  <thead>\n",
       "    <tr style=\"text-align: right;\">\n",
       "      <th></th>\n",
       "      <th>gameId</th>\n",
       "      <th>participantId</th>\n",
       "      <th>position</th>\n",
       "      <th>position_prediction</th>\n",
       "      <th>position_verified</th>\n",
       "    </tr>\n",
       "  </thead>\n",
       "  <tbody>\n",
       "    <tr>\n",
       "      <th>2461</th>\n",
       "      <td>3915023859</td>\n",
       "      <td>4</td>\n",
       "      <td>MIDDLE_DUO_SUPPORT</td>\n",
       "      <td>MIDDLE_SOLO</td>\n",
       "      <td>TOP_SOLO</td>\n",
       "    </tr>\n",
       "    <tr>\n",
       "      <th>3414</th>\n",
       "      <td>3915944893</td>\n",
       "      <td>7</td>\n",
       "      <td>JUNGLE_NONE</td>\n",
       "      <td>MIDDLE_SOLO</td>\n",
       "      <td>BOTTOM_DUO_CARRY</td>\n",
       "    </tr>\n",
       "  </tbody>\n",
       "</table>\n",
       "</div>"
      ],
      "text/plain": [
       "          gameId  participantId            position position_prediction  \\\n",
       "2461  3915023859  4              MIDDLE_DUO_SUPPORT  MIDDLE_SOLO          \n",
       "3414  3915944893  7              JUNGLE_NONE         MIDDLE_SOLO          \n",
       "\n",
       "     position_verified  \n",
       "2461  TOP_SOLO          \n",
       "3414  BOTTOM_DUO_CARRY  "
      ]
     },
     "execution_count": 400,
     "metadata": {},
     "output_type": "execute_result"
    }
   ],
   "source": [
    "dfWorkingEntries[dfWorkingEntries[\"position_prediction\"] != dfWorkingEntries[\"position_verified\"]]"
   ]
  },
  {
   "cell_type": "markdown",
   "metadata": {},
   "source": [
    "Two errors, the jungler trying the fix the midlane and the weird Neeko toplane."
   ]
  },
  {
   "cell_type": "markdown",
   "metadata": {},
   "source": [
    "# Exporting the model"
   ]
  },
  {
   "cell_type": "code",
   "execution_count": 403,
   "metadata": {},
   "outputs": [
    {
     "data": {
      "text/plain": [
       "['roleml/role_identification_model.sav']"
      ]
     },
     "execution_count": 403,
     "metadata": {},
     "output_type": "execute_result"
    }
   ],
   "source": [
    "from sklearn.externals import joblib\n",
    "joblib.dump(c, \"roleml/role_identification_model.sav\")"
   ]
  },
  {
   "cell_type": "code",
   "execution_count": null,
   "metadata": {},
   "outputs": [],
   "source": []
  }
 ],
 "metadata": {
  "kernelspec": {
   "display_name": "Python 3",
   "language": "python",
   "name": "python3"
  },
  "language_info": {
   "codemirror_mode": {
    "name": "ipython",
    "version": 3
   },
   "file_extension": ".py",
   "mimetype": "text/x-python",
   "name": "python",
   "nbconvert_exporter": "python",
   "pygments_lexer": "ipython3",
   "version": "3.7.2"
  }
 },
 "nbformat": 4,
 "nbformat_minor": 2
}
